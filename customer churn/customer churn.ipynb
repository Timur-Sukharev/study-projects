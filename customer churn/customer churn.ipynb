{
 "cells": [
  {
   "cell_type": "markdown",
   "metadata": {},
   "source": [
    "# Отток клиентов"
   ]
  },
  {
   "cell_type": "markdown",
   "metadata": {},
   "source": [
    "[Данные](https://www.kaggle.com/barelydedicated/bank-customer-churn-modeling)"
   ]
  },
  {
   "cell_type": "code",
   "execution_count": 1,
   "metadata": {},
   "outputs": [],
   "source": [
    "#импортируем основные библиотеки для работы\n",
    "import pandas as pd\n",
    "import numpy as np\n",
    "\n",
    "#для построения визуализации\n",
    "import matplotlib.pyplot as plt\n",
    "import warnings"
   ]
  },
  {
   "cell_type": "code",
   "execution_count": 2,
   "metadata": {},
   "outputs": [],
   "source": [
    "#--------------------используемые метрики--------------------------------------------\n",
    "from sklearn.metrics import accuracy_score, confusion_matrix, recall_score, \\\n",
    "                            precision_score, f1_score, roc_curve, roc_auc_score\n",
    "\n",
    "# -------------------используемые алгоритмы------------------------------------------\n",
    "#дерево решений\n",
    "from sklearn.tree import DecisionTreeClassifier\n",
    "#случайный лес\n",
    "from sklearn.ensemble import RandomForestClassifier\n",
    "#логистическая регрессия\n",
    "from sklearn.linear_model import LogisticRegression\n",
    "\n",
    "#--------------------вспомогательные функции------------------------------------------\n",
    "#для разбиения выборок\n",
    "from sklearn.model_selection import train_test_split\n",
    "#для прямого кодирования\n",
    "from sklearn.preprocessing import OrdinalEncoder\n",
    "#для масштабирования\n",
    "from sklearn.preprocessing import StandardScaler\n",
    "#для перемешивания объектов\n",
    "from sklearn.utils import shuffle"
   ]
  },
  {
   "cell_type": "markdown",
   "metadata": {},
   "source": [
    "# 1. Подготовка данных"
   ]
  },
  {
   "cell_type": "markdown",
   "metadata": {},
   "source": [
    "### 1.1. Чтение данных"
   ]
  },
  {
   "cell_type": "code",
   "execution_count": 4,
   "metadata": {},
   "outputs": [
    {
     "data": {
      "text/html": [
       "<div>\n",
       "<style scoped>\n",
       "    .dataframe tbody tr th:only-of-type {\n",
       "        vertical-align: middle;\n",
       "    }\n",
       "\n",
       "    .dataframe tbody tr th {\n",
       "        vertical-align: top;\n",
       "    }\n",
       "\n",
       "    .dataframe thead th {\n",
       "        text-align: right;\n",
       "    }\n",
       "</style>\n",
       "<table border=\"1\" class=\"dataframe\">\n",
       "  <thead>\n",
       "    <tr style=\"text-align: right;\">\n",
       "      <th></th>\n",
       "      <th>RowNumber</th>\n",
       "      <th>CustomerId</th>\n",
       "      <th>Surname</th>\n",
       "      <th>CreditScore</th>\n",
       "      <th>Geography</th>\n",
       "      <th>Gender</th>\n",
       "      <th>Age</th>\n",
       "      <th>Tenure</th>\n",
       "      <th>Balance</th>\n",
       "      <th>NumOfProducts</th>\n",
       "      <th>HasCrCard</th>\n",
       "      <th>IsActiveMember</th>\n",
       "      <th>EstimatedSalary</th>\n",
       "      <th>Exited</th>\n",
       "    </tr>\n",
       "  </thead>\n",
       "  <tbody>\n",
       "    <tr>\n",
       "      <td>0</td>\n",
       "      <td>1</td>\n",
       "      <td>15634602</td>\n",
       "      <td>Hargrave</td>\n",
       "      <td>619</td>\n",
       "      <td>France</td>\n",
       "      <td>Female</td>\n",
       "      <td>42</td>\n",
       "      <td>2.0</td>\n",
       "      <td>0.00</td>\n",
       "      <td>1</td>\n",
       "      <td>1</td>\n",
       "      <td>1</td>\n",
       "      <td>101348.88</td>\n",
       "      <td>1</td>\n",
       "    </tr>\n",
       "    <tr>\n",
       "      <td>1</td>\n",
       "      <td>2</td>\n",
       "      <td>15647311</td>\n",
       "      <td>Hill</td>\n",
       "      <td>608</td>\n",
       "      <td>Spain</td>\n",
       "      <td>Female</td>\n",
       "      <td>41</td>\n",
       "      <td>1.0</td>\n",
       "      <td>83807.86</td>\n",
       "      <td>1</td>\n",
       "      <td>0</td>\n",
       "      <td>1</td>\n",
       "      <td>112542.58</td>\n",
       "      <td>0</td>\n",
       "    </tr>\n",
       "    <tr>\n",
       "      <td>2</td>\n",
       "      <td>3</td>\n",
       "      <td>15619304</td>\n",
       "      <td>Onio</td>\n",
       "      <td>502</td>\n",
       "      <td>France</td>\n",
       "      <td>Female</td>\n",
       "      <td>42</td>\n",
       "      <td>8.0</td>\n",
       "      <td>159660.80</td>\n",
       "      <td>3</td>\n",
       "      <td>1</td>\n",
       "      <td>0</td>\n",
       "      <td>113931.57</td>\n",
       "      <td>1</td>\n",
       "    </tr>\n",
       "    <tr>\n",
       "      <td>3</td>\n",
       "      <td>4</td>\n",
       "      <td>15701354</td>\n",
       "      <td>Boni</td>\n",
       "      <td>699</td>\n",
       "      <td>France</td>\n",
       "      <td>Female</td>\n",
       "      <td>39</td>\n",
       "      <td>1.0</td>\n",
       "      <td>0.00</td>\n",
       "      <td>2</td>\n",
       "      <td>0</td>\n",
       "      <td>0</td>\n",
       "      <td>93826.63</td>\n",
       "      <td>0</td>\n",
       "    </tr>\n",
       "    <tr>\n",
       "      <td>4</td>\n",
       "      <td>5</td>\n",
       "      <td>15737888</td>\n",
       "      <td>Mitchell</td>\n",
       "      <td>850</td>\n",
       "      <td>Spain</td>\n",
       "      <td>Female</td>\n",
       "      <td>43</td>\n",
       "      <td>2.0</td>\n",
       "      <td>125510.82</td>\n",
       "      <td>1</td>\n",
       "      <td>1</td>\n",
       "      <td>1</td>\n",
       "      <td>79084.10</td>\n",
       "      <td>0</td>\n",
       "    </tr>\n",
       "  </tbody>\n",
       "</table>\n",
       "</div>"
      ],
      "text/plain": [
       "   RowNumber  CustomerId   Surname  CreditScore Geography  Gender  Age  \\\n",
       "0          1    15634602  Hargrave          619    France  Female   42   \n",
       "1          2    15647311      Hill          608     Spain  Female   41   \n",
       "2          3    15619304      Onio          502    France  Female   42   \n",
       "3          4    15701354      Boni          699    France  Female   39   \n",
       "4          5    15737888  Mitchell          850     Spain  Female   43   \n",
       "\n",
       "   Tenure    Balance  NumOfProducts  HasCrCard  IsActiveMember  \\\n",
       "0     2.0       0.00              1          1               1   \n",
       "1     1.0   83807.86              1          0               1   \n",
       "2     8.0  159660.80              3          1               0   \n",
       "3     1.0       0.00              2          0               0   \n",
       "4     2.0  125510.82              1          1               1   \n",
       "\n",
       "   EstimatedSalary  Exited  \n",
       "0        101348.88       1  \n",
       "1        112542.58       0  \n",
       "2        113931.57       1  \n",
       "3         93826.63       0  \n",
       "4         79084.10       0  "
      ]
     },
     "metadata": {},
     "output_type": "display_data"
    },
    {
     "data": {
      "text/html": [
       "<div>\n",
       "<style scoped>\n",
       "    .dataframe tbody tr th:only-of-type {\n",
       "        vertical-align: middle;\n",
       "    }\n",
       "\n",
       "    .dataframe tbody tr th {\n",
       "        vertical-align: top;\n",
       "    }\n",
       "\n",
       "    .dataframe thead th {\n",
       "        text-align: right;\n",
       "    }\n",
       "</style>\n",
       "<table border=\"1\" class=\"dataframe\">\n",
       "  <thead>\n",
       "    <tr style=\"text-align: right;\">\n",
       "      <th></th>\n",
       "      <th>RowNumber</th>\n",
       "      <th>CustomerId</th>\n",
       "      <th>Surname</th>\n",
       "      <th>CreditScore</th>\n",
       "      <th>Geography</th>\n",
       "      <th>Gender</th>\n",
       "      <th>Age</th>\n",
       "      <th>Tenure</th>\n",
       "      <th>Balance</th>\n",
       "      <th>NumOfProducts</th>\n",
       "      <th>HasCrCard</th>\n",
       "      <th>IsActiveMember</th>\n",
       "      <th>EstimatedSalary</th>\n",
       "      <th>Exited</th>\n",
       "    </tr>\n",
       "  </thead>\n",
       "  <tbody>\n",
       "    <tr>\n",
       "      <td>9995</td>\n",
       "      <td>9996</td>\n",
       "      <td>15606229</td>\n",
       "      <td>Obijiaku</td>\n",
       "      <td>771</td>\n",
       "      <td>France</td>\n",
       "      <td>Male</td>\n",
       "      <td>39</td>\n",
       "      <td>5.0</td>\n",
       "      <td>0.00</td>\n",
       "      <td>2</td>\n",
       "      <td>1</td>\n",
       "      <td>0</td>\n",
       "      <td>96270.64</td>\n",
       "      <td>0</td>\n",
       "    </tr>\n",
       "    <tr>\n",
       "      <td>9996</td>\n",
       "      <td>9997</td>\n",
       "      <td>15569892</td>\n",
       "      <td>Johnstone</td>\n",
       "      <td>516</td>\n",
       "      <td>France</td>\n",
       "      <td>Male</td>\n",
       "      <td>35</td>\n",
       "      <td>10.0</td>\n",
       "      <td>57369.61</td>\n",
       "      <td>1</td>\n",
       "      <td>1</td>\n",
       "      <td>1</td>\n",
       "      <td>101699.77</td>\n",
       "      <td>0</td>\n",
       "    </tr>\n",
       "    <tr>\n",
       "      <td>9997</td>\n",
       "      <td>9998</td>\n",
       "      <td>15584532</td>\n",
       "      <td>Liu</td>\n",
       "      <td>709</td>\n",
       "      <td>France</td>\n",
       "      <td>Female</td>\n",
       "      <td>36</td>\n",
       "      <td>7.0</td>\n",
       "      <td>0.00</td>\n",
       "      <td>1</td>\n",
       "      <td>0</td>\n",
       "      <td>1</td>\n",
       "      <td>42085.58</td>\n",
       "      <td>1</td>\n",
       "    </tr>\n",
       "    <tr>\n",
       "      <td>9998</td>\n",
       "      <td>9999</td>\n",
       "      <td>15682355</td>\n",
       "      <td>Sabbatini</td>\n",
       "      <td>772</td>\n",
       "      <td>Germany</td>\n",
       "      <td>Male</td>\n",
       "      <td>42</td>\n",
       "      <td>3.0</td>\n",
       "      <td>75075.31</td>\n",
       "      <td>2</td>\n",
       "      <td>1</td>\n",
       "      <td>0</td>\n",
       "      <td>92888.52</td>\n",
       "      <td>1</td>\n",
       "    </tr>\n",
       "    <tr>\n",
       "      <td>9999</td>\n",
       "      <td>10000</td>\n",
       "      <td>15628319</td>\n",
       "      <td>Walker</td>\n",
       "      <td>792</td>\n",
       "      <td>France</td>\n",
       "      <td>Female</td>\n",
       "      <td>28</td>\n",
       "      <td>NaN</td>\n",
       "      <td>130142.79</td>\n",
       "      <td>1</td>\n",
       "      <td>1</td>\n",
       "      <td>0</td>\n",
       "      <td>38190.78</td>\n",
       "      <td>0</td>\n",
       "    </tr>\n",
       "  </tbody>\n",
       "</table>\n",
       "</div>"
      ],
      "text/plain": [
       "      RowNumber  CustomerId    Surname  CreditScore Geography  Gender  Age  \\\n",
       "9995       9996    15606229   Obijiaku          771    France    Male   39   \n",
       "9996       9997    15569892  Johnstone          516    France    Male   35   \n",
       "9997       9998    15584532        Liu          709    France  Female   36   \n",
       "9998       9999    15682355  Sabbatini          772   Germany    Male   42   \n",
       "9999      10000    15628319     Walker          792    France  Female   28   \n",
       "\n",
       "      Tenure    Balance  NumOfProducts  HasCrCard  IsActiveMember  \\\n",
       "9995     5.0       0.00              2          1               0   \n",
       "9996    10.0   57369.61              1          1               1   \n",
       "9997     7.0       0.00              1          0               1   \n",
       "9998     3.0   75075.31              2          1               0   \n",
       "9999     NaN  130142.79              1          1               0   \n",
       "\n",
       "      EstimatedSalary  Exited  \n",
       "9995         96270.64       0  \n",
       "9996        101699.77       0  \n",
       "9997         42085.58       1  \n",
       "9998         92888.52       1  \n",
       "9999         38190.78       0  "
      ]
     },
     "metadata": {},
     "output_type": "display_data"
    },
    {
     "data": {
      "text/html": [
       "<div>\n",
       "<style scoped>\n",
       "    .dataframe tbody tr th:only-of-type {\n",
       "        vertical-align: middle;\n",
       "    }\n",
       "\n",
       "    .dataframe tbody tr th {\n",
       "        vertical-align: top;\n",
       "    }\n",
       "\n",
       "    .dataframe thead th {\n",
       "        text-align: right;\n",
       "    }\n",
       "</style>\n",
       "<table border=\"1\" class=\"dataframe\">\n",
       "  <thead>\n",
       "    <tr style=\"text-align: right;\">\n",
       "      <th></th>\n",
       "      <th>RowNumber</th>\n",
       "      <th>CustomerId</th>\n",
       "      <th>Surname</th>\n",
       "      <th>CreditScore</th>\n",
       "      <th>Geography</th>\n",
       "      <th>Gender</th>\n",
       "      <th>Age</th>\n",
       "      <th>Tenure</th>\n",
       "      <th>Balance</th>\n",
       "      <th>NumOfProducts</th>\n",
       "      <th>HasCrCard</th>\n",
       "      <th>IsActiveMember</th>\n",
       "      <th>EstimatedSalary</th>\n",
       "      <th>Exited</th>\n",
       "    </tr>\n",
       "  </thead>\n",
       "  <tbody>\n",
       "    <tr>\n",
       "      <td>3811</td>\n",
       "      <td>3812</td>\n",
       "      <td>15589428</td>\n",
       "      <td>Tomlinson</td>\n",
       "      <td>756</td>\n",
       "      <td>France</td>\n",
       "      <td>Female</td>\n",
       "      <td>42</td>\n",
       "      <td>9.0</td>\n",
       "      <td>0.00</td>\n",
       "      <td>2</td>\n",
       "      <td>1</td>\n",
       "      <td>0</td>\n",
       "      <td>35673.42</td>\n",
       "      <td>0</td>\n",
       "    </tr>\n",
       "    <tr>\n",
       "      <td>7603</td>\n",
       "      <td>7604</td>\n",
       "      <td>15712483</td>\n",
       "      <td>Chidi</td>\n",
       "      <td>608</td>\n",
       "      <td>Spain</td>\n",
       "      <td>Female</td>\n",
       "      <td>28</td>\n",
       "      <td>4.0</td>\n",
       "      <td>0.00</td>\n",
       "      <td>2</td>\n",
       "      <td>1</td>\n",
       "      <td>0</td>\n",
       "      <td>10899.63</td>\n",
       "      <td>1</td>\n",
       "    </tr>\n",
       "    <tr>\n",
       "      <td>729</td>\n",
       "      <td>730</td>\n",
       "      <td>15612525</td>\n",
       "      <td>Preston</td>\n",
       "      <td>499</td>\n",
       "      <td>France</td>\n",
       "      <td>Female</td>\n",
       "      <td>57</td>\n",
       "      <td>1.0</td>\n",
       "      <td>0.00</td>\n",
       "      <td>1</td>\n",
       "      <td>0</td>\n",
       "      <td>0</td>\n",
       "      <td>131372.38</td>\n",
       "      <td>1</td>\n",
       "    </tr>\n",
       "    <tr>\n",
       "      <td>4927</td>\n",
       "      <td>4928</td>\n",
       "      <td>15803456</td>\n",
       "      <td>Yen</td>\n",
       "      <td>641</td>\n",
       "      <td>France</td>\n",
       "      <td>Female</td>\n",
       "      <td>40</td>\n",
       "      <td>9.0</td>\n",
       "      <td>0.00</td>\n",
       "      <td>1</td>\n",
       "      <td>0</td>\n",
       "      <td>0</td>\n",
       "      <td>151648.66</td>\n",
       "      <td>1</td>\n",
       "    </tr>\n",
       "    <tr>\n",
       "      <td>4561</td>\n",
       "      <td>4562</td>\n",
       "      <td>15638028</td>\n",
       "      <td>Ifeanyichukwu</td>\n",
       "      <td>562</td>\n",
       "      <td>Germany</td>\n",
       "      <td>Male</td>\n",
       "      <td>31</td>\n",
       "      <td>4.0</td>\n",
       "      <td>127237.25</td>\n",
       "      <td>2</td>\n",
       "      <td>0</td>\n",
       "      <td>1</td>\n",
       "      <td>143317.42</td>\n",
       "      <td>0</td>\n",
       "    </tr>\n",
       "  </tbody>\n",
       "</table>\n",
       "</div>"
      ],
      "text/plain": [
       "      RowNumber  CustomerId        Surname  CreditScore Geography  Gender  \\\n",
       "3811       3812    15589428      Tomlinson          756    France  Female   \n",
       "7603       7604    15712483          Chidi          608     Spain  Female   \n",
       "729         730    15612525        Preston          499    France  Female   \n",
       "4927       4928    15803456            Yen          641    France  Female   \n",
       "4561       4562    15638028  Ifeanyichukwu          562   Germany    Male   \n",
       "\n",
       "      Age  Tenure    Balance  NumOfProducts  HasCrCard  IsActiveMember  \\\n",
       "3811   42     9.0       0.00              2          1               0   \n",
       "7603   28     4.0       0.00              2          1               0   \n",
       "729    57     1.0       0.00              1          0               0   \n",
       "4927   40     9.0       0.00              1          0               0   \n",
       "4561   31     4.0  127237.25              2          0               1   \n",
       "\n",
       "      EstimatedSalary  Exited  \n",
       "3811         35673.42       0  \n",
       "7603         10899.63       1  \n",
       "729         131372.38       1  \n",
       "4927        151648.66       1  \n",
       "4561        143317.42       0  "
      ]
     },
     "metadata": {},
     "output_type": "display_data"
    }
   ],
   "source": [
    "data = pd.read_csv('/datasets/Churn.csv')\n",
    "display(data.head())\n",
    "display(data.tail())\n",
    "display(data.sample(5))"
   ]
  },
  {
   "cell_type": "markdown",
   "metadata": {},
   "source": [
    "### 1.2. Замена названий столбцов"
   ]
  },
  {
   "cell_type": "code",
   "execution_count": 5,
   "metadata": {},
   "outputs": [
    {
     "name": "stdout",
     "output_type": "stream",
     "text": [
      "Index(['rownumber', 'customerid', 'surname', 'creditscore', 'geography',\n",
      "       'gender', 'age', 'tenure', 'balance', 'numofproducts', 'hascrcard',\n",
      "       'isactivemember', 'estimatedsalary', 'exited'],\n",
      "      dtype='object') \n",
      "\n",
      "Index(['row_number', 'id', 'surname', 'credit_score', 'country', 'gender',\n",
      "       'age', 'tenure', 'balance', 'num_of_products', 'is_card', 'is_active',\n",
      "       'salary', 'exited'],\n",
      "      dtype='object')\n"
     ]
    }
   ],
   "source": [
    "#преобразуем названия столбцов к нижнему регистру и переименуем некоторые столбцы\n",
    "data.columns = data.columns.str.lower()\n",
    "print(data.columns, '\\n')\n",
    "columns = ['row_number', 'id', 'surname', 'credit_score', 'country',\n",
    "       'gender', 'age', 'tenure', 'balance', 'num_of_products', 'is_card',\n",
    "       'is_active', 'salary', 'exited']\n",
    "\n",
    "data.columns = columns\n",
    "print(data.columns)"
   ]
  },
  {
   "cell_type": "code",
   "execution_count": 6,
   "metadata": {},
   "outputs": [
    {
     "name": "stdout",
     "output_type": "stream",
     "text": [
      "<class 'pandas.core.frame.DataFrame'>\n",
      "RangeIndex: 10000 entries, 0 to 9999\n",
      "Data columns (total 14 columns):\n",
      "row_number         10000 non-null int64\n",
      "id                 10000 non-null int64\n",
      "surname            10000 non-null object\n",
      "credit_score       10000 non-null int64\n",
      "country            10000 non-null object\n",
      "gender             10000 non-null object\n",
      "age                10000 non-null int64\n",
      "tenure             9091 non-null float64\n",
      "balance            10000 non-null float64\n",
      "num_of_products    10000 non-null int64\n",
      "is_card            10000 non-null int64\n",
      "is_active          10000 non-null int64\n",
      "salary             10000 non-null float64\n",
      "exited             10000 non-null int64\n",
      "dtypes: float64(3), int64(8), object(3)\n",
      "memory usage: 1.1+ MB\n"
     ]
    }
   ],
   "source": [
    "data.info()"
   ]
  },
  {
   "cell_type": "markdown",
   "metadata": {},
   "source": [
    "### 1.3. Описание данных"
   ]
  },
  {
   "cell_type": "markdown",
   "metadata": {},
   "source": [
    "#1. Каждый объект в наборе данных — это информация о поведении одного клиента банка. В столбце *tenure*  имеются пропуски. Всего в таблице 10 тыс. объектов. Каждый объект характеризуется 14-ю признакими.   \n",
    "\n",
    "***Целевой признак***  \n",
    " **exited** - факт ухода клиента (int64). "
   ]
  },
  {
   "cell_type": "markdown",
   "metadata": {},
   "source": [
    "### 1.4. Удаление ненужных столбцов"
   ]
  },
  {
   "cell_type": "code",
   "execution_count": 7,
   "metadata": {},
   "outputs": [
    {
     "data": {
      "text/plain": [
       "(10000,)"
      ]
     },
     "execution_count": 7,
     "metadata": {},
     "output_type": "execute_result"
    }
   ],
   "source": [
    "data['id'].unique().shape"
   ]
  },
  {
   "cell_type": "markdown",
   "metadata": {},
   "source": [
    "#2. В изначальных данных у нас присутствует избыточная информация для обучения: **row_number** (скорее всего данный столбец является следствием выгрузки данных), **id** (особой смысловой нагрузки на прогноз не оказывает) и **surname** (вряд ли от фамилии зависит уход клиента из банка). Поэтому можем удалить данные колонки из датасета."
   ]
  },
  {
   "cell_type": "code",
   "execution_count": 8,
   "metadata": {},
   "outputs": [
    {
     "data": {
      "text/html": [
       "<div>\n",
       "<style scoped>\n",
       "    .dataframe tbody tr th:only-of-type {\n",
       "        vertical-align: middle;\n",
       "    }\n",
       "\n",
       "    .dataframe tbody tr th {\n",
       "        vertical-align: top;\n",
       "    }\n",
       "\n",
       "    .dataframe thead th {\n",
       "        text-align: right;\n",
       "    }\n",
       "</style>\n",
       "<table border=\"1\" class=\"dataframe\">\n",
       "  <thead>\n",
       "    <tr style=\"text-align: right;\">\n",
       "      <th></th>\n",
       "      <th>credit_score</th>\n",
       "      <th>country</th>\n",
       "      <th>gender</th>\n",
       "      <th>age</th>\n",
       "      <th>tenure</th>\n",
       "      <th>balance</th>\n",
       "      <th>num_of_products</th>\n",
       "      <th>is_card</th>\n",
       "      <th>is_active</th>\n",
       "      <th>salary</th>\n",
       "      <th>exited</th>\n",
       "    </tr>\n",
       "  </thead>\n",
       "  <tbody>\n",
       "    <tr>\n",
       "      <td>0</td>\n",
       "      <td>619</td>\n",
       "      <td>France</td>\n",
       "      <td>Female</td>\n",
       "      <td>42</td>\n",
       "      <td>2.0</td>\n",
       "      <td>0.00</td>\n",
       "      <td>1</td>\n",
       "      <td>1</td>\n",
       "      <td>1</td>\n",
       "      <td>101348.88</td>\n",
       "      <td>1</td>\n",
       "    </tr>\n",
       "    <tr>\n",
       "      <td>1</td>\n",
       "      <td>608</td>\n",
       "      <td>Spain</td>\n",
       "      <td>Female</td>\n",
       "      <td>41</td>\n",
       "      <td>1.0</td>\n",
       "      <td>83807.86</td>\n",
       "      <td>1</td>\n",
       "      <td>0</td>\n",
       "      <td>1</td>\n",
       "      <td>112542.58</td>\n",
       "      <td>0</td>\n",
       "    </tr>\n",
       "    <tr>\n",
       "      <td>2</td>\n",
       "      <td>502</td>\n",
       "      <td>France</td>\n",
       "      <td>Female</td>\n",
       "      <td>42</td>\n",
       "      <td>8.0</td>\n",
       "      <td>159660.80</td>\n",
       "      <td>3</td>\n",
       "      <td>1</td>\n",
       "      <td>0</td>\n",
       "      <td>113931.57</td>\n",
       "      <td>1</td>\n",
       "    </tr>\n",
       "    <tr>\n",
       "      <td>3</td>\n",
       "      <td>699</td>\n",
       "      <td>France</td>\n",
       "      <td>Female</td>\n",
       "      <td>39</td>\n",
       "      <td>1.0</td>\n",
       "      <td>0.00</td>\n",
       "      <td>2</td>\n",
       "      <td>0</td>\n",
       "      <td>0</td>\n",
       "      <td>93826.63</td>\n",
       "      <td>0</td>\n",
       "    </tr>\n",
       "    <tr>\n",
       "      <td>4</td>\n",
       "      <td>850</td>\n",
       "      <td>Spain</td>\n",
       "      <td>Female</td>\n",
       "      <td>43</td>\n",
       "      <td>2.0</td>\n",
       "      <td>125510.82</td>\n",
       "      <td>1</td>\n",
       "      <td>1</td>\n",
       "      <td>1</td>\n",
       "      <td>79084.10</td>\n",
       "      <td>0</td>\n",
       "    </tr>\n",
       "  </tbody>\n",
       "</table>\n",
       "</div>"
      ],
      "text/plain": [
       "   credit_score country  gender  age  tenure    balance  num_of_products  \\\n",
       "0           619  France  Female   42     2.0       0.00                1   \n",
       "1           608   Spain  Female   41     1.0   83807.86                1   \n",
       "2           502  France  Female   42     8.0  159660.80                3   \n",
       "3           699  France  Female   39     1.0       0.00                2   \n",
       "4           850   Spain  Female   43     2.0  125510.82                1   \n",
       "\n",
       "   is_card  is_active     salary  exited  \n",
       "0        1          1  101348.88       1  \n",
       "1        0          1  112542.58       0  \n",
       "2        1          0  113931.57       1  \n",
       "3        0          0   93826.63       0  \n",
       "4        1          1   79084.10       0  "
      ]
     },
     "execution_count": 8,
     "metadata": {},
     "output_type": "execute_result"
    }
   ],
   "source": [
    "data = data.drop(['row_number', 'id', 'surname'], axis=1)\n",
    "data.head()"
   ]
  },
  {
   "cell_type": "markdown",
   "metadata": {},
   "source": [
    "### 1.5. Обработка пропусков"
   ]
  },
  {
   "cell_type": "markdown",
   "metadata": {},
   "source": [
    "#3. В столбце **tenure** присутствуют пропуски."
   ]
  },
  {
   "cell_type": "code",
   "execution_count": 9,
   "metadata": {},
   "outputs": [
    {
     "data": {
      "image/png": "[encoded data removed]",
      "text/plain": [
       "<Figure size 432x288 with 1 Axes>"
      ]
     },
     "metadata": {
      "needs_background": "light"
     },
     "output_type": "display_data"
    },
    {
     "name": "stdout",
     "output_type": "stream",
     "text": [
      "Процент пропусков в \"tenure\": 9.09%\n"
     ]
    }
   ],
   "source": [
    "ax = data['tenure'].plot(kind='hist', grid=True, bins=21, density=True)\n",
    "ax.set_xlabel('tenure')\n",
    "ax.set_title('''Гистограмма для столбца 'tenure' ''')\n",
    "plt.show()\n",
    "print('Процент пропусков в \"tenure\": {:.2%}'.format(len(data.query('tenure != tenure')['tenure'])/len(data)))"
   ]
  },
  {
   "cell_type": "markdown",
   "metadata": {},
   "source": [
    "#4. Получается, что мы имеем некоторое распределение по данному признаку. Заменить пропуск 0, было бы не совсем правильно, так как мы искусственно увеличили бы значимость признака tenure=0. Предлагаю все пропуски пропорционально заменить частотами из гистограммы, т.е. на каждое значение от 1 до 9 отдать по 10% пропусков, а на 0 и 10 по 5% соответственно. Реализуем это и проверим."
   ]
  },
  {
   "cell_type": "code",
   "execution_count": 10,
   "metadata": {},
   "outputs": [
    {
     "data": {
      "text/plain": [
       "count    9091.000000\n",
       "mean        4.997690\n",
       "std         2.894723\n",
       "min         0.000000\n",
       "25%         2.000000\n",
       "50%         5.000000\n",
       "75%         7.000000\n",
       "max        10.000000\n",
       "Name: tenure, dtype: float64"
      ]
     },
     "execution_count": 10,
     "metadata": {},
     "output_type": "execute_result"
    }
   ],
   "source": [
    "#зафиксируем статистические показатели перед изменением\n",
    "data['tenure'].describe()"
   ]
  },
  {
   "cell_type": "code",
   "execution_count": 11,
   "metadata": {},
   "outputs": [
    {
     "data": {
      "text/plain": [
       "(909,)"
      ]
     },
     "execution_count": 11,
     "metadata": {},
     "output_type": "execute_result"
    }
   ],
   "source": [
    "#всего пропусков\n",
    "data.query('tenure != tenure')['tenure'].shape"
   ]
  },
  {
   "cell_type": "code",
   "execution_count": 12,
   "metadata": {},
   "outputs": [
    {
     "name": "stdout",
     "output_type": "stream",
     "text": [
      "0.0 \tКол-во пропусков после замены:  864\n",
      "1.0 \tКол-во пропусков после замены:  773\n",
      "2.0 \tКол-во пропусков после замены:  682\n",
      "3.0 \tКол-во пропусков после замены:  591\n",
      "4.0 \tКол-во пропусков после замены:  500\n",
      "5.0 \tКол-во пропусков после замены:  409\n",
      "6.0 \tКол-во пропусков после замены:  318\n",
      "7.0 \tКол-во пропусков после замены:  227\n",
      "8.0 \tКол-во пропусков после замены:  136\n",
      "9.0 \tКол-во пропусков после замены:  45\n",
      "10.0 \tКол-во пропусков после замены:  0\n"
     ]
    }
   ],
   "source": [
    "#имеем 909 пропусков. \n",
    "#Будем случайно вытаскивать из датасета строки с пропусками по 91 штук 9 раз и приравнивать значению от 1.0 до 9.0\n",
    "for num in np.arange(0.0, 11.0, 1.0):\n",
    "    \n",
    "    if num == 0.0 or num == 10.0:\n",
    "        #выберим случайно 45 индексов у строк с пропусками для последующего изменения\n",
    "        ind = data.query('tenure != tenure').sample(45).index\n",
    "    else:\n",
    "        #выберим случайно 91 индексов у строк с пропусками для последующего изменения\n",
    "        ind = data.query('tenure != tenure').sample(91).index\n",
    "    \n",
    "    #пробегаем по индексам и делаем замену\n",
    "    for i in ind:\n",
    "        data.loc[i, 'tenure'] = num\n",
    "\n",
    "    print(num, '\\t', end='')\n",
    "    print('Кол-во пропусков после замены: ',data.query('tenure != tenure')['tenure'].shape[0])\n"
   ]
  },
  {
   "cell_type": "code",
   "execution_count": 13,
   "metadata": {},
   "outputs": [
    {
     "data": {
      "text/plain": [
       "count    10000.000000\n",
       "mean         4.997900\n",
       "std          2.896331\n",
       "min          0.000000\n",
       "25%          2.000000\n",
       "50%          5.000000\n",
       "75%          7.000000\n",
       "max         10.000000\n",
       "Name: tenure, dtype: float64"
      ]
     },
     "metadata": {},
     "output_type": "display_data"
    },
    {
     "data": {
      "image/png": "[encoded data removed]",
      "text/plain": [
       "<Figure size 432x288 with 1 Axes>"
      ]
     },
     "metadata": {
      "needs_background": "light"
     },
     "output_type": "display_data"
    }
   ],
   "source": [
    "#статистические показатели после заполнения пропусков и гистограмма\n",
    "display(data['tenure'].describe())\n",
    "\n",
    "ax = data['tenure'].plot(kind='hist', grid=True, bins=21, density=True)\n",
    "ax.set_xlabel('tenure')\n",
    "ax.set_title('''Гистограмма для столбца 'tenure' ''')\n",
    "plt.show()"
   ]
  },
  {
   "cell_type": "markdown",
   "metadata": {},
   "source": [
    "#5. Среднее и среднеквадратическое отклонение слегка изменились в 3 и 4-ом знаке после запятой, гистограмма распределения признака осталась практически такой же."
   ]
  },
  {
   "cell_type": "code",
   "execution_count": 14,
   "metadata": {},
   "outputs": [
    {
     "name": "stdout",
     "output_type": "stream",
     "text": [
      "<class 'pandas.core.frame.DataFrame'>\n",
      "RangeIndex: 10000 entries, 0 to 9999\n",
      "Data columns (total 11 columns):\n",
      "credit_score       10000 non-null int64\n",
      "country            10000 non-null object\n",
      "gender             10000 non-null object\n",
      "age                10000 non-null int64\n",
      "tenure             10000 non-null float64\n",
      "balance            10000 non-null float64\n",
      "num_of_products    10000 non-null int64\n",
      "is_card            10000 non-null int64\n",
      "is_active          10000 non-null int64\n",
      "salary             10000 non-null float64\n",
      "exited             10000 non-null int64\n",
      "dtypes: float64(3), int64(6), object(2)\n",
      "memory usage: 859.5+ KB\n"
     ]
    }
   ],
   "source": [
    "#убедимся, что больше пропусков нет\n",
    "data.info()"
   ]
  },
  {
   "cell_type": "markdown",
   "metadata": {},
   "source": [
    "### 1.6. Подготовка категориальных признаков (с численными признаками  разберемся в следующем разделе)"
   ]
  },
  {
   "cell_type": "markdown",
   "metadata": {},
   "source": [
    "#6. Мы имеем следующие категориальные признаки, требующие подготовки: **gender**, **country**, **tenure**, **num_of_products**. Разберемся с каждым в отдельности.  \n",
    "\n",
    "Рассмотрим приизнак **gender** - пол, который имеет тип данных object. Произведем здесь порядковое кодирование."
   ]
  },
  {
   "cell_type": "code",
   "execution_count": 15,
   "metadata": {},
   "outputs": [
    {
     "data": {
      "text/plain": [
       "Male      5457\n",
       "Female    4543\n",
       "Name: gender, dtype: int64"
      ]
     },
     "execution_count": 15,
     "metadata": {},
     "output_type": "execute_result"
    }
   ],
   "source": [
    "data['gender'].value_counts()"
   ]
  },
  {
   "cell_type": "code",
   "execution_count": 16,
   "metadata": {},
   "outputs": [
    {
     "data": {
      "text/html": [
       "<div>\n",
       "<style scoped>\n",
       "    .dataframe tbody tr th:only-of-type {\n",
       "        vertical-align: middle;\n",
       "    }\n",
       "\n",
       "    .dataframe tbody tr th {\n",
       "        vertical-align: top;\n",
       "    }\n",
       "\n",
       "    .dataframe thead th {\n",
       "        text-align: right;\n",
       "    }\n",
       "</style>\n",
       "<table border=\"1\" class=\"dataframe\">\n",
       "  <thead>\n",
       "    <tr style=\"text-align: right;\">\n",
       "      <th></th>\n",
       "      <th>credit_score</th>\n",
       "      <th>country</th>\n",
       "      <th>gender</th>\n",
       "      <th>age</th>\n",
       "      <th>tenure</th>\n",
       "      <th>balance</th>\n",
       "      <th>num_of_products</th>\n",
       "      <th>is_card</th>\n",
       "      <th>is_active</th>\n",
       "      <th>salary</th>\n",
       "      <th>exited</th>\n",
       "    </tr>\n",
       "  </thead>\n",
       "  <tbody>\n",
       "    <tr>\n",
       "      <td>9995</td>\n",
       "      <td>771</td>\n",
       "      <td>France</td>\n",
       "      <td>Male</td>\n",
       "      <td>39</td>\n",
       "      <td>5.0</td>\n",
       "      <td>0.00</td>\n",
       "      <td>2</td>\n",
       "      <td>1</td>\n",
       "      <td>0</td>\n",
       "      <td>96270.64</td>\n",
       "      <td>0</td>\n",
       "    </tr>\n",
       "    <tr>\n",
       "      <td>9996</td>\n",
       "      <td>516</td>\n",
       "      <td>France</td>\n",
       "      <td>Male</td>\n",
       "      <td>35</td>\n",
       "      <td>10.0</td>\n",
       "      <td>57369.61</td>\n",
       "      <td>1</td>\n",
       "      <td>1</td>\n",
       "      <td>1</td>\n",
       "      <td>101699.77</td>\n",
       "      <td>0</td>\n",
       "    </tr>\n",
       "    <tr>\n",
       "      <td>9997</td>\n",
       "      <td>709</td>\n",
       "      <td>France</td>\n",
       "      <td>Female</td>\n",
       "      <td>36</td>\n",
       "      <td>7.0</td>\n",
       "      <td>0.00</td>\n",
       "      <td>1</td>\n",
       "      <td>0</td>\n",
       "      <td>1</td>\n",
       "      <td>42085.58</td>\n",
       "      <td>1</td>\n",
       "    </tr>\n",
       "    <tr>\n",
       "      <td>9998</td>\n",
       "      <td>772</td>\n",
       "      <td>Germany</td>\n",
       "      <td>Male</td>\n",
       "      <td>42</td>\n",
       "      <td>3.0</td>\n",
       "      <td>75075.31</td>\n",
       "      <td>2</td>\n",
       "      <td>1</td>\n",
       "      <td>0</td>\n",
       "      <td>92888.52</td>\n",
       "      <td>1</td>\n",
       "    </tr>\n",
       "    <tr>\n",
       "      <td>9999</td>\n",
       "      <td>792</td>\n",
       "      <td>France</td>\n",
       "      <td>Female</td>\n",
       "      <td>28</td>\n",
       "      <td>6.0</td>\n",
       "      <td>130142.79</td>\n",
       "      <td>1</td>\n",
       "      <td>1</td>\n",
       "      <td>0</td>\n",
       "      <td>38190.78</td>\n",
       "      <td>0</td>\n",
       "    </tr>\n",
       "  </tbody>\n",
       "</table>\n",
       "</div>"
      ],
      "text/plain": [
       "      credit_score  country  gender  age  tenure    balance  num_of_products  \\\n",
       "9995           771   France    Male   39     5.0       0.00                2   \n",
       "9996           516   France    Male   35    10.0   57369.61                1   \n",
       "9997           709   France  Female   36     7.0       0.00                1   \n",
       "9998           772  Germany    Male   42     3.0   75075.31                2   \n",
       "9999           792   France  Female   28     6.0  130142.79                1   \n",
       "\n",
       "      is_card  is_active     salary  exited  \n",
       "9995        1          0   96270.64       0  \n",
       "9996        1          1  101699.77       0  \n",
       "9997        0          1   42085.58       1  \n",
       "9998        1          0   92888.52       1  \n",
       "9999        1          0   38190.78       0  "
      ]
     },
     "execution_count": 16,
     "metadata": {},
     "output_type": "execute_result"
    }
   ],
   "source": [
    "data.tail()"
   ]
  },
  {
   "cell_type": "code",
   "execution_count": 17,
   "metadata": {},
   "outputs": [
    {
     "data": {
      "text/html": [
       "<div>\n",
       "<style scoped>\n",
       "    .dataframe tbody tr th:only-of-type {\n",
       "        vertical-align: middle;\n",
       "    }\n",
       "\n",
       "    .dataframe tbody tr th {\n",
       "        vertical-align: top;\n",
       "    }\n",
       "\n",
       "    .dataframe thead th {\n",
       "        text-align: right;\n",
       "    }\n",
       "</style>\n",
       "<table border=\"1\" class=\"dataframe\">\n",
       "  <thead>\n",
       "    <tr style=\"text-align: right;\">\n",
       "      <th></th>\n",
       "      <th>credit_score</th>\n",
       "      <th>country</th>\n",
       "      <th>gender</th>\n",
       "      <th>age</th>\n",
       "      <th>tenure</th>\n",
       "      <th>balance</th>\n",
       "      <th>num_of_products</th>\n",
       "      <th>is_card</th>\n",
       "      <th>is_active</th>\n",
       "      <th>salary</th>\n",
       "      <th>exited</th>\n",
       "    </tr>\n",
       "  </thead>\n",
       "  <tbody>\n",
       "    <tr>\n",
       "      <td>9995</td>\n",
       "      <td>771</td>\n",
       "      <td>France</td>\n",
       "      <td>1.0</td>\n",
       "      <td>39</td>\n",
       "      <td>5.0</td>\n",
       "      <td>0.00</td>\n",
       "      <td>2</td>\n",
       "      <td>1</td>\n",
       "      <td>0</td>\n",
       "      <td>96270.64</td>\n",
       "      <td>0</td>\n",
       "    </tr>\n",
       "    <tr>\n",
       "      <td>9996</td>\n",
       "      <td>516</td>\n",
       "      <td>France</td>\n",
       "      <td>1.0</td>\n",
       "      <td>35</td>\n",
       "      <td>10.0</td>\n",
       "      <td>57369.61</td>\n",
       "      <td>1</td>\n",
       "      <td>1</td>\n",
       "      <td>1</td>\n",
       "      <td>101699.77</td>\n",
       "      <td>0</td>\n",
       "    </tr>\n",
       "    <tr>\n",
       "      <td>9997</td>\n",
       "      <td>709</td>\n",
       "      <td>France</td>\n",
       "      <td>0.0</td>\n",
       "      <td>36</td>\n",
       "      <td>7.0</td>\n",
       "      <td>0.00</td>\n",
       "      <td>1</td>\n",
       "      <td>0</td>\n",
       "      <td>1</td>\n",
       "      <td>42085.58</td>\n",
       "      <td>1</td>\n",
       "    </tr>\n",
       "    <tr>\n",
       "      <td>9998</td>\n",
       "      <td>772</td>\n",
       "      <td>Germany</td>\n",
       "      <td>1.0</td>\n",
       "      <td>42</td>\n",
       "      <td>3.0</td>\n",
       "      <td>75075.31</td>\n",
       "      <td>2</td>\n",
       "      <td>1</td>\n",
       "      <td>0</td>\n",
       "      <td>92888.52</td>\n",
       "      <td>1</td>\n",
       "    </tr>\n",
       "    <tr>\n",
       "      <td>9999</td>\n",
       "      <td>792</td>\n",
       "      <td>France</td>\n",
       "      <td>0.0</td>\n",
       "      <td>28</td>\n",
       "      <td>6.0</td>\n",
       "      <td>130142.79</td>\n",
       "      <td>1</td>\n",
       "      <td>1</td>\n",
       "      <td>0</td>\n",
       "      <td>38190.78</td>\n",
       "      <td>0</td>\n",
       "    </tr>\n",
       "  </tbody>\n",
       "</table>\n",
       "</div>"
      ],
      "text/plain": [
       "      credit_score  country  gender  age  tenure    balance  num_of_products  \\\n",
       "9995           771   France     1.0   39     5.0       0.00                2   \n",
       "9996           516   France     1.0   35    10.0   57369.61                1   \n",
       "9997           709   France     0.0   36     7.0       0.00                1   \n",
       "9998           772  Germany     1.0   42     3.0   75075.31                2   \n",
       "9999           792   France     0.0   28     6.0  130142.79                1   \n",
       "\n",
       "      is_card  is_active     salary  exited  \n",
       "9995        1          0   96270.64       0  \n",
       "9996        1          1  101699.77       0  \n",
       "9997        0          1   42085.58       1  \n",
       "9998        1          0   92888.52       1  \n",
       "9999        1          0   38190.78       0  "
      ]
     },
     "execution_count": 17,
     "metadata": {},
     "output_type": "execute_result"
    }
   ],
   "source": [
    "encoder = OrdinalEncoder()\n",
    "\n",
    "data['gender'] = pd.DataFrame(encoder.fit_transform(data[['gender']]), index=data.index)\n",
    "data.tail()"
   ]
  },
  {
   "cell_type": "markdown",
   "metadata": {},
   "source": [
    "#7. Остальные категориальные признаки (**country**, **tenure**, **num_of_products**) закодируем, используя прямое кодирование"
   ]
  },
  {
   "cell_type": "code",
   "execution_count": 18,
   "metadata": {},
   "outputs": [
    {
     "data": {
      "text/plain": [
       "France     5014\n",
       "Germany    2509\n",
       "Spain      2477\n",
       "Name: country, dtype: int64"
      ]
     },
     "metadata": {},
     "output_type": "display_data"
    },
    {
     "data": {
      "text/plain": [
       "1.0     1043\n",
       "2.0     1041\n",
       "8.0     1024\n",
       "3.0     1019\n",
       "5.0     1018\n",
       "7.0     1016\n",
       "4.0      976\n",
       "9.0      973\n",
       "6.0      972\n",
       "10.0     491\n",
       "0.0      427\n",
       "Name: tenure, dtype: int64"
      ]
     },
     "metadata": {},
     "output_type": "display_data"
    },
    {
     "data": {
      "text/plain": [
       "1    5084\n",
       "2    4590\n",
       "3     266\n",
       "4      60\n",
       "Name: num_of_products, dtype: int64"
      ]
     },
     "metadata": {},
     "output_type": "display_data"
    },
    {
     "data": {
      "text/plain": [
       "(10000, 11)"
      ]
     },
     "execution_count": 18,
     "metadata": {},
     "output_type": "execute_result"
    }
   ],
   "source": [
    "display(data['country'].value_counts(), data['tenure'].value_counts(), data['num_of_products'].value_counts())\n",
    "data.shape"
   ]
  },
  {
   "cell_type": "code",
   "execution_count": 19,
   "metadata": {},
   "outputs": [],
   "source": [
    "data_ohe = pd.get_dummies(data, columns = ['country', 'tenure', 'num_of_products'], drop_first=True)"
   ]
  },
  {
   "cell_type": "code",
   "execution_count": 20,
   "metadata": {},
   "outputs": [
    {
     "data": {
      "text/html": [
       "<div>\n",
       "<style scoped>\n",
       "    .dataframe tbody tr th:only-of-type {\n",
       "        vertical-align: middle;\n",
       "    }\n",
       "\n",
       "    .dataframe tbody tr th {\n",
       "        vertical-align: top;\n",
       "    }\n",
       "\n",
       "    .dataframe thead th {\n",
       "        text-align: right;\n",
       "    }\n",
       "</style>\n",
       "<table border=\"1\" class=\"dataframe\">\n",
       "  <thead>\n",
       "    <tr style=\"text-align: right;\">\n",
       "      <th></th>\n",
       "      <th>credit_score</th>\n",
       "      <th>gender</th>\n",
       "      <th>age</th>\n",
       "      <th>balance</th>\n",
       "      <th>is_card</th>\n",
       "      <th>is_active</th>\n",
       "      <th>salary</th>\n",
       "      <th>exited</th>\n",
       "      <th>country_Germany</th>\n",
       "      <th>country_Spain</th>\n",
       "      <th>...</th>\n",
       "      <th>tenure_4.0</th>\n",
       "      <th>tenure_5.0</th>\n",
       "      <th>tenure_6.0</th>\n",
       "      <th>tenure_7.0</th>\n",
       "      <th>tenure_8.0</th>\n",
       "      <th>tenure_9.0</th>\n",
       "      <th>tenure_10.0</th>\n",
       "      <th>num_of_products_2</th>\n",
       "      <th>num_of_products_3</th>\n",
       "      <th>num_of_products_4</th>\n",
       "    </tr>\n",
       "  </thead>\n",
       "  <tbody>\n",
       "    <tr>\n",
       "      <td>9995</td>\n",
       "      <td>771</td>\n",
       "      <td>1.0</td>\n",
       "      <td>39</td>\n",
       "      <td>0.00</td>\n",
       "      <td>1</td>\n",
       "      <td>0</td>\n",
       "      <td>96270.64</td>\n",
       "      <td>0</td>\n",
       "      <td>0</td>\n",
       "      <td>0</td>\n",
       "      <td>...</td>\n",
       "      <td>0</td>\n",
       "      <td>1</td>\n",
       "      <td>0</td>\n",
       "      <td>0</td>\n",
       "      <td>0</td>\n",
       "      <td>0</td>\n",
       "      <td>0</td>\n",
       "      <td>1</td>\n",
       "      <td>0</td>\n",
       "      <td>0</td>\n",
       "    </tr>\n",
       "    <tr>\n",
       "      <td>9996</td>\n",
       "      <td>516</td>\n",
       "      <td>1.0</td>\n",
       "      <td>35</td>\n",
       "      <td>57369.61</td>\n",
       "      <td>1</td>\n",
       "      <td>1</td>\n",
       "      <td>101699.77</td>\n",
       "      <td>0</td>\n",
       "      <td>0</td>\n",
       "      <td>0</td>\n",
       "      <td>...</td>\n",
       "      <td>0</td>\n",
       "      <td>0</td>\n",
       "      <td>0</td>\n",
       "      <td>0</td>\n",
       "      <td>0</td>\n",
       "      <td>0</td>\n",
       "      <td>1</td>\n",
       "      <td>0</td>\n",
       "      <td>0</td>\n",
       "      <td>0</td>\n",
       "    </tr>\n",
       "    <tr>\n",
       "      <td>9997</td>\n",
       "      <td>709</td>\n",
       "      <td>0.0</td>\n",
       "      <td>36</td>\n",
       "      <td>0.00</td>\n",
       "      <td>0</td>\n",
       "      <td>1</td>\n",
       "      <td>42085.58</td>\n",
       "      <td>1</td>\n",
       "      <td>0</td>\n",
       "      <td>0</td>\n",
       "      <td>...</td>\n",
       "      <td>0</td>\n",
       "      <td>0</td>\n",
       "      <td>0</td>\n",
       "      <td>1</td>\n",
       "      <td>0</td>\n",
       "      <td>0</td>\n",
       "      <td>0</td>\n",
       "      <td>0</td>\n",
       "      <td>0</td>\n",
       "      <td>0</td>\n",
       "    </tr>\n",
       "    <tr>\n",
       "      <td>9998</td>\n",
       "      <td>772</td>\n",
       "      <td>1.0</td>\n",
       "      <td>42</td>\n",
       "      <td>75075.31</td>\n",
       "      <td>1</td>\n",
       "      <td>0</td>\n",
       "      <td>92888.52</td>\n",
       "      <td>1</td>\n",
       "      <td>1</td>\n",
       "      <td>0</td>\n",
       "      <td>...</td>\n",
       "      <td>0</td>\n",
       "      <td>0</td>\n",
       "      <td>0</td>\n",
       "      <td>0</td>\n",
       "      <td>0</td>\n",
       "      <td>0</td>\n",
       "      <td>0</td>\n",
       "      <td>1</td>\n",
       "      <td>0</td>\n",
       "      <td>0</td>\n",
       "    </tr>\n",
       "    <tr>\n",
       "      <td>9999</td>\n",
       "      <td>792</td>\n",
       "      <td>0.0</td>\n",
       "      <td>28</td>\n",
       "      <td>130142.79</td>\n",
       "      <td>1</td>\n",
       "      <td>0</td>\n",
       "      <td>38190.78</td>\n",
       "      <td>0</td>\n",
       "      <td>0</td>\n",
       "      <td>0</td>\n",
       "      <td>...</td>\n",
       "      <td>0</td>\n",
       "      <td>0</td>\n",
       "      <td>1</td>\n",
       "      <td>0</td>\n",
       "      <td>0</td>\n",
       "      <td>0</td>\n",
       "      <td>0</td>\n",
       "      <td>0</td>\n",
       "      <td>0</td>\n",
       "      <td>0</td>\n",
       "    </tr>\n",
       "  </tbody>\n",
       "</table>\n",
       "<p>5 rows × 23 columns</p>\n",
       "</div>"
      ],
      "text/plain": [
       "      credit_score  gender  age    balance  is_card  is_active     salary  \\\n",
       "9995           771     1.0   39       0.00        1          0   96270.64   \n",
       "9996           516     1.0   35   57369.61        1          1  101699.77   \n",
       "9997           709     0.0   36       0.00        0          1   42085.58   \n",
       "9998           772     1.0   42   75075.31        1          0   92888.52   \n",
       "9999           792     0.0   28  130142.79        1          0   38190.78   \n",
       "\n",
       "      exited  country_Germany  country_Spain  ...  tenure_4.0  tenure_5.0  \\\n",
       "9995       0                0              0  ...           0           1   \n",
       "9996       0                0              0  ...           0           0   \n",
       "9997       1                0              0  ...           0           0   \n",
       "9998       1                1              0  ...           0           0   \n",
       "9999       0                0              0  ...           0           0   \n",
       "\n",
       "      tenure_6.0  tenure_7.0  tenure_8.0  tenure_9.0  tenure_10.0  \\\n",
       "9995           0           0           0           0            0   \n",
       "9996           0           0           0           0            1   \n",
       "9997           0           1           0           0            0   \n",
       "9998           0           0           0           0            0   \n",
       "9999           1           0           0           0            0   \n",
       "\n",
       "      num_of_products_2  num_of_products_3  num_of_products_4  \n",
       "9995                  1                  0                  0  \n",
       "9996                  0                  0                  0  \n",
       "9997                  0                  0                  0  \n",
       "9998                  1                  0                  0  \n",
       "9999                  0                  0                  0  \n",
       "\n",
       "[5 rows x 23 columns]"
      ]
     },
     "metadata": {},
     "output_type": "display_data"
    },
    {
     "data": {
      "text/plain": [
       "(10000, 23)"
      ]
     },
     "execution_count": 20,
     "metadata": {},
     "output_type": "execute_result"
    }
   ],
   "source": [
    "display(data_ohe.tail())\n",
    "data_ohe.shape"
   ]
  },
  {
   "cell_type": "markdown",
   "metadata": {},
   "source": [
    "### 1.7. Дисбаланс классов"
   ]
  },
  {
   "cell_type": "code",
   "execution_count": 21,
   "metadata": {},
   "outputs": [
    {
     "name": "stdout",
     "output_type": "stream",
     "text": [
      "Количество данных об ушедших клиентах в датасете равно 20.37%\n",
      "Количество данных действующих клиентов в датасете равно 79.63%\n"
     ]
    }
   ],
   "source": [
    "temp = len(data.query('exited == 1'))/len(data)\n",
    "print('Количество данных об ушедших клиентах в датасете равно {:.2%}'.format(temp))\n",
    "print('Количество данных действующих клиентов в датасете равно {:.2%}'.format(1-temp))"
   ]
  },
  {
   "cell_type": "markdown",
   "metadata": {},
   "source": [
    "## Вывод\n",
    "\n",
    "Пропуски в данных в колонке *tenure*  были обработаны. Категориальные признаки подготовлены к исследованию.  Стоит отметить, что объектов с целевым признаком exited равным 0 больше (~80%), т.е. мы будем решать задачу несбалансированной классификации. Причем с точки зрения бизнесабудет важен положительный класс, т.е. мы точно хотим прогнозировать уход клиента из банка.\n",
    "\n",
    "P.S. Численные признаки будут обработаны после разбиения датасета на выборки в следующем разделе, если понадобиться, то преобразование типов данных будет там же."
   ]
  },
  {
   "cell_type": "markdown",
   "metadata": {},
   "source": [
    "# 2. Исследование задачи"
   ]
  },
  {
   "cell_type": "markdown",
   "metadata": {},
   "source": [
    "### 2.1 Разбиваем датасет на обучающую, валидационную и тестовую выборки."
   ]
  },
  {
   "cell_type": "markdown",
   "metadata": {},
   "source": [
    "#8. Разобьем данные на обучающая, валидационную и тестовую выборки в соотношении **3:1:1**"
   ]
  },
  {
   "cell_type": "code",
   "execution_count": 22,
   "metadata": {},
   "outputs": [
    {
     "name": "stdout",
     "output_type": "stream",
     "text": [
      "Обучающая выборка - 60%\n",
      "Валидационная выборка - 20%\n",
      "Тестовая выборка - 20%\n",
      "Обучающая+Валидационная  - 80%\n"
     ]
    }
   ],
   "source": [
    "train, tmp = train_test_split(data_ohe, test_size=0.4, random_state=100)\n",
    "valid, test = train_test_split(tmp, test_size=0.5, random_state=100)\n",
    "train_valid = pd.concat([train, valid])\n",
    "#проверим процентное разбиение выборок\n",
    "print('Обучающая выборка - {:.0%}\\nВалидационная выборка - {:.0%}\\nТестовая выборка - {:.0%}\\nОбучающая+Валидационная  - {:.0%}'.format(\n",
    "    len(train)/len(data), len(valid)/len(data), len(test)/len(data), len(train_valid)/len(data)))"
   ]
  },
  {
   "cell_type": "code",
   "execution_count": 23,
   "metadata": {},
   "outputs": [
    {
     "name": "stdout",
     "output_type": "stream",
     "text": [
      "В целом наборе данных\n",
      "Ушедшие клиенты: 20.37%\n",
      "Оставшиеся клиенты: 79.63%\n",
      "\n"
     ]
    }
   ],
   "source": [
    "#функция, выводящая процентное соотношение пользователей разных тарифов в выборке\n",
    "def print_client_ratio(df, Name_dataframe=''):\n",
    "    try:\n",
    "        temp = len(df.query('exited\t == 1'))/len(df)\n",
    "        print(Name_dataframe)\n",
    "        print('Ушедшие клиенты: {:.2%}'.format(temp))\n",
    "        print('Оставшиеся клиенты: {:.2%}\\n'.format(1-temp))\n",
    "    except:\n",
    "        print('Error in print_client_ratio!!!')\n",
    "        \n",
    "print_client_ratio(data, 'В целом наборе данных')"
   ]
  },
  {
   "cell_type": "code",
   "execution_count": 24,
   "metadata": {},
   "outputs": [
    {
     "name": "stdout",
     "output_type": "stream",
     "text": [
      "Обучающая выборка\n",
      "Ушедшие клиенты: 20.27%\n",
      "Оставшиеся клиенты: 79.73%\n",
      "\n",
      "Валидационная выборка\n",
      "Ушедшие клиенты: 19.65%\n",
      "Оставшиеся клиенты: 80.35%\n",
      "\n",
      "Тестовая выборка\n",
      "Ушедшие клиенты: 21.40%\n",
      "Оставшиеся клиенты: 78.60%\n",
      "\n",
      "Обучающая+Валидационная выборка\n",
      "Ушедшие клиенты: 20.11%\n",
      "Оставшиеся клиенты: 79.89%\n",
      "\n"
     ]
    }
   ],
   "source": [
    "#проверим процентное соотношение пользователей тарифов в выборках\n",
    "\n",
    "print_client_ratio(train,'Обучающая выборка')\n",
    "print_client_ratio(valid,'Валидационная выборка')\n",
    "print_client_ratio(test,'Тестовая выборка')\n",
    "print_client_ratio(train_valid,'Обучающая+Валидационная выборка')"
   ]
  },
  {
   "cell_type": "markdown",
   "metadata": {},
   "source": [
    "#9. Для каждой из выборок выделим признаки - **features** и целевой признак - **target** (*exited*)"
   ]
  },
  {
   "cell_type": "code",
   "execution_count": 25,
   "metadata": {},
   "outputs": [],
   "source": [
    "train_features = train.drop('exited', axis=1)\n",
    "train_target = train['exited']\n",
    "\n",
    "valid_features = valid.drop('exited', axis=1)\n",
    "valid_target = valid['exited']\n",
    "\n",
    "train_valid_features = train_valid.drop('exited', axis=1)\n",
    "train_valid_target = train_valid['exited']\n",
    "\n",
    "test_features = test.drop('exited', axis=1)\n",
    "test_target = test['exited']"
   ]
  },
  {
   "cell_type": "markdown",
   "metadata": {},
   "source": [
    "### 2.2 Подготовка численных признаков"
   ]
  },
  {
   "cell_type": "markdown",
   "metadata": {},
   "source": [
    "#10. Масштабируем численные признаки **credit_score, age, balance** и **salary**"
   ]
  },
  {
   "cell_type": "code",
   "execution_count": 26,
   "metadata": {},
   "outputs": [
    {
     "data": {
      "text/html": [
       "<div>\n",
       "<style scoped>\n",
       "    .dataframe tbody tr th:only-of-type {\n",
       "        vertical-align: middle;\n",
       "    }\n",
       "\n",
       "    .dataframe tbody tr th {\n",
       "        vertical-align: top;\n",
       "    }\n",
       "\n",
       "    .dataframe thead th {\n",
       "        text-align: right;\n",
       "    }\n",
       "</style>\n",
       "<table border=\"1\" class=\"dataframe\">\n",
       "  <thead>\n",
       "    <tr style=\"text-align: right;\">\n",
       "      <th></th>\n",
       "      <th>credit_score</th>\n",
       "      <th>gender</th>\n",
       "      <th>age</th>\n",
       "      <th>balance</th>\n",
       "      <th>is_card</th>\n",
       "      <th>is_active</th>\n",
       "      <th>salary</th>\n",
       "      <th>country_Germany</th>\n",
       "      <th>country_Spain</th>\n",
       "      <th>tenure_1.0</th>\n",
       "      <th>...</th>\n",
       "      <th>tenure_4.0</th>\n",
       "      <th>tenure_5.0</th>\n",
       "      <th>tenure_6.0</th>\n",
       "      <th>tenure_7.0</th>\n",
       "      <th>tenure_8.0</th>\n",
       "      <th>tenure_9.0</th>\n",
       "      <th>tenure_10.0</th>\n",
       "      <th>num_of_products_2</th>\n",
       "      <th>num_of_products_3</th>\n",
       "      <th>num_of_products_4</th>\n",
       "    </tr>\n",
       "  </thead>\n",
       "  <tbody>\n",
       "    <tr>\n",
       "      <td>1553</td>\n",
       "      <td>592</td>\n",
       "      <td>0.0</td>\n",
       "      <td>38</td>\n",
       "      <td>119278.01</td>\n",
       "      <td>0</td>\n",
       "      <td>1</td>\n",
       "      <td>19370.73</td>\n",
       "      <td>0</td>\n",
       "      <td>0</td>\n",
       "      <td>0</td>\n",
       "      <td>...</td>\n",
       "      <td>0</td>\n",
       "      <td>0</td>\n",
       "      <td>0</td>\n",
       "      <td>0</td>\n",
       "      <td>1</td>\n",
       "      <td>0</td>\n",
       "      <td>0</td>\n",
       "      <td>1</td>\n",
       "      <td>0</td>\n",
       "      <td>0</td>\n",
       "    </tr>\n",
       "    <tr>\n",
       "      <td>4134</td>\n",
       "      <td>678</td>\n",
       "      <td>1.0</td>\n",
       "      <td>43</td>\n",
       "      <td>102338.19</td>\n",
       "      <td>1</td>\n",
       "      <td>1</td>\n",
       "      <td>79649.62</td>\n",
       "      <td>0</td>\n",
       "      <td>0</td>\n",
       "      <td>0</td>\n",
       "      <td>...</td>\n",
       "      <td>0</td>\n",
       "      <td>1</td>\n",
       "      <td>0</td>\n",
       "      <td>0</td>\n",
       "      <td>0</td>\n",
       "      <td>0</td>\n",
       "      <td>0</td>\n",
       "      <td>0</td>\n",
       "      <td>0</td>\n",
       "      <td>0</td>\n",
       "    </tr>\n",
       "    <tr>\n",
       "      <td>1184</td>\n",
       "      <td>584</td>\n",
       "      <td>1.0</td>\n",
       "      <td>47</td>\n",
       "      <td>130538.77</td>\n",
       "      <td>1</td>\n",
       "      <td>0</td>\n",
       "      <td>92915.84</td>\n",
       "      <td>1</td>\n",
       "      <td>0</td>\n",
       "      <td>0</td>\n",
       "      <td>...</td>\n",
       "      <td>0</td>\n",
       "      <td>0</td>\n",
       "      <td>0</td>\n",
       "      <td>1</td>\n",
       "      <td>0</td>\n",
       "      <td>0</td>\n",
       "      <td>0</td>\n",
       "      <td>0</td>\n",
       "      <td>0</td>\n",
       "      <td>0</td>\n",
       "    </tr>\n",
       "    <tr>\n",
       "      <td>3543</td>\n",
       "      <td>675</td>\n",
       "      <td>1.0</td>\n",
       "      <td>49</td>\n",
       "      <td>135133.39</td>\n",
       "      <td>0</td>\n",
       "      <td>1</td>\n",
       "      <td>179521.24</td>\n",
       "      <td>0</td>\n",
       "      <td>0</td>\n",
       "      <td>0</td>\n",
       "      <td>...</td>\n",
       "      <td>0</td>\n",
       "      <td>0</td>\n",
       "      <td>0</td>\n",
       "      <td>0</td>\n",
       "      <td>0</td>\n",
       "      <td>1</td>\n",
       "      <td>0</td>\n",
       "      <td>0</td>\n",
       "      <td>0</td>\n",
       "      <td>0</td>\n",
       "    </tr>\n",
       "    <tr>\n",
       "      <td>3979</td>\n",
       "      <td>685</td>\n",
       "      <td>0.0</td>\n",
       "      <td>40</td>\n",
       "      <td>0.00</td>\n",
       "      <td>1</td>\n",
       "      <td>0</td>\n",
       "      <td>72852.74</td>\n",
       "      <td>0</td>\n",
       "      <td>0</td>\n",
       "      <td>0</td>\n",
       "      <td>...</td>\n",
       "      <td>0</td>\n",
       "      <td>0</td>\n",
       "      <td>0</td>\n",
       "      <td>1</td>\n",
       "      <td>0</td>\n",
       "      <td>0</td>\n",
       "      <td>0</td>\n",
       "      <td>0</td>\n",
       "      <td>0</td>\n",
       "      <td>0</td>\n",
       "    </tr>\n",
       "  </tbody>\n",
       "</table>\n",
       "<p>5 rows × 22 columns</p>\n",
       "</div>"
      ],
      "text/plain": [
       "      credit_score  gender  age    balance  is_card  is_active     salary  \\\n",
       "1553           592     0.0   38  119278.01        0          1   19370.73   \n",
       "4134           678     1.0   43  102338.19        1          1   79649.62   \n",
       "1184           584     1.0   47  130538.77        1          0   92915.84   \n",
       "3543           675     1.0   49  135133.39        0          1  179521.24   \n",
       "3979           685     0.0   40       0.00        1          0   72852.74   \n",
       "\n",
       "      country_Germany  country_Spain  tenure_1.0  ...  tenure_4.0  tenure_5.0  \\\n",
       "1553                0              0           0  ...           0           0   \n",
       "4134                0              0           0  ...           0           1   \n",
       "1184                1              0           0  ...           0           0   \n",
       "3543                0              0           0  ...           0           0   \n",
       "3979                0              0           0  ...           0           0   \n",
       "\n",
       "      tenure_6.0  tenure_7.0  tenure_8.0  tenure_9.0  tenure_10.0  \\\n",
       "1553           0           0           1           0            0   \n",
       "4134           0           0           0           0            0   \n",
       "1184           0           1           0           0            0   \n",
       "3543           0           0           0           1            0   \n",
       "3979           0           1           0           0            0   \n",
       "\n",
       "      num_of_products_2  num_of_products_3  num_of_products_4  \n",
       "1553                  1                  0                  0  \n",
       "4134                  0                  0                  0  \n",
       "1184                  0                  0                  0  \n",
       "3543                  0                  0                  0  \n",
       "3979                  0                  0                  0  \n",
       "\n",
       "[5 rows x 22 columns]"
      ]
     },
     "execution_count": 26,
     "metadata": {},
     "output_type": "execute_result"
    }
   ],
   "source": [
    "#создадим список с названиями числовых столбцов\n",
    "numeric = ['credit_score', 'age', 'balance', 'salary']\n",
    "train_features.head()"
   ]
  },
  {
   "cell_type": "code",
   "execution_count": 27,
   "metadata": {},
   "outputs": [
    {
     "data": {
      "text/html": [
       "<div>\n",
       "<style scoped>\n",
       "    .dataframe tbody tr th:only-of-type {\n",
       "        vertical-align: middle;\n",
       "    }\n",
       "\n",
       "    .dataframe tbody tr th {\n",
       "        vertical-align: top;\n",
       "    }\n",
       "\n",
       "    .dataframe thead th {\n",
       "        text-align: right;\n",
       "    }\n",
       "</style>\n",
       "<table border=\"1\" class=\"dataframe\">\n",
       "  <thead>\n",
       "    <tr style=\"text-align: right;\">\n",
       "      <th></th>\n",
       "      <th>credit_score</th>\n",
       "      <th>gender</th>\n",
       "      <th>age</th>\n",
       "      <th>balance</th>\n",
       "      <th>is_card</th>\n",
       "      <th>is_active</th>\n",
       "      <th>salary</th>\n",
       "      <th>country_Germany</th>\n",
       "      <th>country_Spain</th>\n",
       "      <th>tenure_1.0</th>\n",
       "      <th>...</th>\n",
       "      <th>tenure_4.0</th>\n",
       "      <th>tenure_5.0</th>\n",
       "      <th>tenure_6.0</th>\n",
       "      <th>tenure_7.0</th>\n",
       "      <th>tenure_8.0</th>\n",
       "      <th>tenure_9.0</th>\n",
       "      <th>tenure_10.0</th>\n",
       "      <th>num_of_products_2</th>\n",
       "      <th>num_of_products_3</th>\n",
       "      <th>num_of_products_4</th>\n",
       "    </tr>\n",
       "  </thead>\n",
       "  <tbody>\n",
       "    <tr>\n",
       "      <td>1553</td>\n",
       "      <td>-0.605300</td>\n",
       "      <td>0.0</td>\n",
       "      <td>-0.081573</td>\n",
       "      <td>0.683377</td>\n",
       "      <td>0</td>\n",
       "      <td>1</td>\n",
       "      <td>-1.415365</td>\n",
       "      <td>0</td>\n",
       "      <td>0</td>\n",
       "      <td>0</td>\n",
       "      <td>...</td>\n",
       "      <td>0</td>\n",
       "      <td>0</td>\n",
       "      <td>0</td>\n",
       "      <td>0</td>\n",
       "      <td>1</td>\n",
       "      <td>0</td>\n",
       "      <td>0</td>\n",
       "      <td>1</td>\n",
       "      <td>0</td>\n",
       "      <td>0</td>\n",
       "    </tr>\n",
       "    <tr>\n",
       "      <td>4134</td>\n",
       "      <td>0.292859</td>\n",
       "      <td>1.0</td>\n",
       "      <td>0.393427</td>\n",
       "      <td>0.411339</td>\n",
       "      <td>1</td>\n",
       "      <td>1</td>\n",
       "      <td>-0.360012</td>\n",
       "      <td>0</td>\n",
       "      <td>0</td>\n",
       "      <td>0</td>\n",
       "      <td>...</td>\n",
       "      <td>0</td>\n",
       "      <td>1</td>\n",
       "      <td>0</td>\n",
       "      <td>0</td>\n",
       "      <td>0</td>\n",
       "      <td>0</td>\n",
       "      <td>0</td>\n",
       "      <td>0</td>\n",
       "      <td>0</td>\n",
       "      <td>0</td>\n",
       "    </tr>\n",
       "    <tr>\n",
       "      <td>1184</td>\n",
       "      <td>-0.688850</td>\n",
       "      <td>1.0</td>\n",
       "      <td>0.773427</td>\n",
       "      <td>0.864214</td>\n",
       "      <td>1</td>\n",
       "      <td>0</td>\n",
       "      <td>-0.127749</td>\n",
       "      <td>1</td>\n",
       "      <td>0</td>\n",
       "      <td>0</td>\n",
       "      <td>...</td>\n",
       "      <td>0</td>\n",
       "      <td>0</td>\n",
       "      <td>0</td>\n",
       "      <td>1</td>\n",
       "      <td>0</td>\n",
       "      <td>0</td>\n",
       "      <td>0</td>\n",
       "      <td>0</td>\n",
       "      <td>0</td>\n",
       "      <td>0</td>\n",
       "    </tr>\n",
       "    <tr>\n",
       "      <td>3543</td>\n",
       "      <td>0.261528</td>\n",
       "      <td>1.0</td>\n",
       "      <td>0.963427</td>\n",
       "      <td>0.938000</td>\n",
       "      <td>0</td>\n",
       "      <td>1</td>\n",
       "      <td>1.388524</td>\n",
       "      <td>0</td>\n",
       "      <td>0</td>\n",
       "      <td>0</td>\n",
       "      <td>...</td>\n",
       "      <td>0</td>\n",
       "      <td>0</td>\n",
       "      <td>0</td>\n",
       "      <td>0</td>\n",
       "      <td>0</td>\n",
       "      <td>1</td>\n",
       "      <td>0</td>\n",
       "      <td>0</td>\n",
       "      <td>0</td>\n",
       "      <td>0</td>\n",
       "    </tr>\n",
       "    <tr>\n",
       "      <td>3979</td>\n",
       "      <td>0.365965</td>\n",
       "      <td>0.0</td>\n",
       "      <td>0.108427</td>\n",
       "      <td>-1.232120</td>\n",
       "      <td>1</td>\n",
       "      <td>0</td>\n",
       "      <td>-0.479010</td>\n",
       "      <td>0</td>\n",
       "      <td>0</td>\n",
       "      <td>0</td>\n",
       "      <td>...</td>\n",
       "      <td>0</td>\n",
       "      <td>0</td>\n",
       "      <td>0</td>\n",
       "      <td>1</td>\n",
       "      <td>0</td>\n",
       "      <td>0</td>\n",
       "      <td>0</td>\n",
       "      <td>0</td>\n",
       "      <td>0</td>\n",
       "      <td>0</td>\n",
       "    </tr>\n",
       "  </tbody>\n",
       "</table>\n",
       "<p>5 rows × 22 columns</p>\n",
       "</div>"
      ],
      "text/plain": [
       "      credit_score  gender       age   balance  is_card  is_active    salary  \\\n",
       "1553     -0.605300     0.0 -0.081573  0.683377        0          1 -1.415365   \n",
       "4134      0.292859     1.0  0.393427  0.411339        1          1 -0.360012   \n",
       "1184     -0.688850     1.0  0.773427  0.864214        1          0 -0.127749   \n",
       "3543      0.261528     1.0  0.963427  0.938000        0          1  1.388524   \n",
       "3979      0.365965     0.0  0.108427 -1.232120        1          0 -0.479010   \n",
       "\n",
       "      country_Germany  country_Spain  tenure_1.0  ...  tenure_4.0  tenure_5.0  \\\n",
       "1553                0              0           0  ...           0           0   \n",
       "4134                0              0           0  ...           0           1   \n",
       "1184                1              0           0  ...           0           0   \n",
       "3543                0              0           0  ...           0           0   \n",
       "3979                0              0           0  ...           0           0   \n",
       "\n",
       "      tenure_6.0  tenure_7.0  tenure_8.0  tenure_9.0  tenure_10.0  \\\n",
       "1553           0           0           1           0            0   \n",
       "4134           0           0           0           0            0   \n",
       "1184           0           1           0           0            0   \n",
       "3543           0           0           0           1            0   \n",
       "3979           0           1           0           0            0   \n",
       "\n",
       "      num_of_products_2  num_of_products_3  num_of_products_4  \n",
       "1553                  1                  0                  0  \n",
       "4134                  0                  0                  0  \n",
       "1184                  0                  0                  0  \n",
       "3543                  0                  0                  0  \n",
       "3979                  0                  0                  0  \n",
       "\n",
       "[5 rows x 22 columns]"
      ]
     },
     "execution_count": 27,
     "metadata": {},
     "output_type": "execute_result"
    }
   ],
   "source": [
    "scaler = StandardScaler()\n",
    "scaler.fit(train_features[numeric])\n",
    "\n",
    "train_features[numeric] = scaler.transform(train_features[numeric])\n",
    "valid_features[numeric] = scaler.transform(valid_features[numeric])\n",
    "train_valid_features[numeric] = scaler.transform(train_valid_features[numeric])\n",
    "test_features[numeric] = scaler.transform(test_features[numeric])\n",
    "\n",
    "train_features.head()"
   ]
  },
  {
   "cell_type": "markdown",
   "metadata": {},
   "source": [
    "### 2.3 Исследование моделей"
   ]
  },
  {
   "cell_type": "markdown",
   "metadata": {},
   "source": [
    "#### 2.3.1 Дерево решений"
   ]
  },
  {
   "cell_type": "code",
   "execution_count": 28,
   "metadata": {},
   "outputs": [],
   "source": [
    "model_decision_tree = DecisionTreeClassifier(random_state=100)"
   ]
  },
  {
   "cell_type": "code",
   "execution_count": 30,
   "metadata": {},
   "outputs": [
    {
     "data": {
      "text/plain": [
       "DecisionTreeClassifier(class_weight=None, criterion='gini', max_depth=None,\n",
       "                       max_features=None, max_leaf_nodes=None,\n",
       "                       min_impurity_decrease=0.0, min_impurity_split=None,\n",
       "                       min_samples_leaf=1, min_samples_split=2,\n",
       "                       min_weight_fraction_leaf=0.0, presort=False,\n",
       "                       random_state=100, splitter='best')"
      ]
     },
     "execution_count": 30,
     "metadata": {},
     "output_type": "execute_result"
    }
   ],
   "source": [
    "model_decision_tree.fit(train_features, train_target)"
   ]
  },
  {
   "cell_type": "code",
   "execution_count": 31,
   "metadata": {},
   "outputs": [
    {
     "name": "stdout",
     "output_type": "stream",
     "text": [
      "Глубина дерева после обучения: 24\n"
     ]
    }
   ],
   "source": [
    "#глубину дерева мы не ограничивали, посмотрим какая она получилась в ходе обучения\n",
    "print('Глубина дерева после обучения:', model_decision_tree.tree_.max_depth)"
   ]
  },
  {
   "cell_type": "code",
   "execution_count": 32,
   "metadata": {},
   "outputs": [
    {
     "name": "stdout",
     "output_type": "stream",
     "text": [
      "Матрица ошибок\n",
      " [[1394  213]\n",
      " [ 198  195]]\n"
     ]
    }
   ],
   "source": [
    "#сделаем прогноз\n",
    "train_predictions_tree = model_decision_tree.predict(valid_features)\n",
    "print('Матрица ошибок\\n',confusion_matrix(valid_target, train_predictions_tree))"
   ]
  },
  {
   "cell_type": "markdown",
   "metadata": {},
   "source": [
    "#11. Из 393 TP-ответов модель нашла около половины, не очень хороший результат."
   ]
  },
  {
   "cell_type": "code",
   "execution_count": 33,
   "metadata": {},
   "outputs": [],
   "source": [
    "#Посчитаем основные метрики для этого напишем соответствующую функцию\n",
    "def metrics(model, features, target):\n",
    "    try:\n",
    "        predicted = model.predict(features)\n",
    "        print('f1: ', round(f1_score(target, predicted), 4), end='')\n",
    "        print('\\tprecision: ', round(precision_score(target, predicted), 4), end='')\n",
    "        print('\\trecall: ', round(recall_score(target, predicted), 4), end='')\n",
    "        print('\\t\\tаccuracy: ', round(accuracy_score(target, predicted), 4))\n",
    "    except:\n",
    "        print('ERROR in metrics!!!')"
   ]
  },
  {
   "cell_type": "code",
   "execution_count": 34,
   "metadata": {},
   "outputs": [
    {
     "name": "stdout",
     "output_type": "stream",
     "text": [
      "f1:  0.4869\tprecision:  0.4779\trecall:  0.4962\t\tаccuracy:  0.7945\n"
     ]
    }
   ],
   "source": [
    "metrics(model_decision_tree, valid_features, valid_target)"
   ]
  },
  {
   "cell_type": "markdown",
   "metadata": {},
   "source": [
    "#12. Проварьируем гиперпараметр **min_samples_leaf** (минимальное число объектов в листе, с его увеличением глубина дерева должна уменьшаться, поэтому глубину не стал варьировать) и найдем лучшее решающее дерево для наших данных."
   ]
  },
  {
   "cell_type": "code",
   "execution_count": 35,
   "metadata": {},
   "outputs": [],
   "source": [
    "#проварьируем данный параметр: min_samples_leaf для этого напишем соответствующую функцию\n",
    "#На вход подяется обучающая и валидационная выборка (features, target) и набор для варьирования гиперпараметров\n",
    "#\n",
    "#возвращает датафрейм с максимальной глубиной дерева и основными метриками, индекс датафрейма равен гиперпараметру\n",
    "\n",
    "def DecisionTree_hyperP(train_features, train_target, valid_features, valid_target, \n",
    "                        samples_leaf = 452,     #максимальное значение min_samples_leaf (default= 452)\n",
    "                        delta_samples_leaf = 5, #шаг перебора min_samples_leaf (default=5)\n",
    "                        class_w = None          #сбалансировать классы (default=None)\n",
    "                       ):\n",
    "    try: \n",
    "        columns = ['max_depth', 'f1', 'precision', 'recall', 'accuracy']\n",
    "        hyper_tree = pd.DataFrame(columns=columns)\n",
    "\n",
    "        for i in range(1,samples_leaf,delta_samples_leaf):\n",
    "    \n",
    "            model_decision_tree = DecisionTreeClassifier(random_state=100, class_weight = class_w, min_samples_leaf=i)\n",
    "            model_decision_tree.fit(train_features, train_target)\n",
    "    \n",
    "            hyper_tree.loc[i, 'max_depth'] = model_decision_tree.tree_.max_depth\n",
    "    \n",
    "            hyper_tree.loc[i, 'f1'] = f1_score(valid_target, model_decision_tree.predict(valid_features))\n",
    "    \n",
    "            hyper_tree.loc[i, 'precision'] = precision_score(valid_target, model_decision_tree.predict(valid_features))\n",
    "    \n",
    "            hyper_tree.loc[i, 'recall'] = recall_score(valid_target, model_decision_tree.predict(valid_features))\n",
    "    \n",
    "            hyper_tree.loc[i, 'accuracy'] = accuracy_score(valid_target, model_decision_tree.predict(valid_features))\n",
    "        \n",
    "        return hyper_tree\n",
    "    \n",
    "    except:\n",
    "        print('ERROR in DecisionTree_hyperP!!!')"
   ]
  },
  {
   "cell_type": "code",
   "execution_count": 36,
   "metadata": {},
   "outputs": [],
   "source": [
    "#проварьируем параметр min_samples_leaf от 1 до 452 с шагом 5 и запишем результат в hyper_tree\n",
    "hyper_tree = DecisionTree_hyperP(\n",
    "                                train_features, train_target, \n",
    "                                valid_features, valid_target, \n",
    "                                samples_leaf = 452, \n",
    "                                delta_samples_leaf = 5)"
   ]
  },
  {
   "cell_type": "code",
   "execution_count": 37,
   "metadata": {},
   "outputs": [
    {
     "data": {
      "image/png": "[encoded data removed]",
      "text/plain": [
       "<Figure size 1080x432 with 1 Axes>"
      ]
     },
     "metadata": {
      "needs_background": "light"
     },
     "output_type": "display_data"
    }
   ],
   "source": [
    "ax = hyper_tree.plot(\n",
    "    y='f1', \n",
    "    marker='o', linewidth=2, markersize=10,\n",
    "    title = 'Зависимость метрики \"f1\" от гиперпараметра \"min_samples_leaf\"\\n',\n",
    "    grid = True, label='f1 score', figsize=(15, 6))\n",
    "ax.set_xlabel('min_samples_leaf')\n",
    "ax.set_ylabel('f1 score')\n",
    "plt.show()"
   ]
  },
  {
   "cell_type": "markdown",
   "metadata": {},
   "source": [
    "#13. Есть максимум f1 меры около 66, получим его количественное значение."
   ]
  },
  {
   "cell_type": "code",
   "execution_count": 38,
   "metadata": {},
   "outputs": [
    {
     "data": {
      "text/html": [
       "<div>\n",
       "<style scoped>\n",
       "    .dataframe tbody tr th:only-of-type {\n",
       "        vertical-align: middle;\n",
       "    }\n",
       "\n",
       "    .dataframe tbody tr th {\n",
       "        vertical-align: top;\n",
       "    }\n",
       "\n",
       "    .dataframe thead th {\n",
       "        text-align: right;\n",
       "    }\n",
       "</style>\n",
       "<table border=\"1\" class=\"dataframe\">\n",
       "  <thead>\n",
       "    <tr style=\"text-align: right;\">\n",
       "      <th></th>\n",
       "      <th>max_depth</th>\n",
       "      <th>f1</th>\n",
       "      <th>precision</th>\n",
       "      <th>recall</th>\n",
       "      <th>accuracy</th>\n",
       "    </tr>\n",
       "  </thead>\n",
       "  <tbody>\n",
       "    <tr>\n",
       "      <td>66</td>\n",
       "      <td>12</td>\n",
       "      <td>0.581121</td>\n",
       "      <td>0.691228</td>\n",
       "      <td>0.501272</td>\n",
       "      <td>0.858</td>\n",
       "    </tr>\n",
       "  </tbody>\n",
       "</table>\n",
       "</div>"
      ],
      "text/plain": [
       "   max_depth        f1 precision    recall accuracy\n",
       "66        12  0.581121  0.691228  0.501272    0.858"
      ]
     },
     "execution_count": 38,
     "metadata": {},
     "output_type": "execute_result"
    }
   ],
   "source": [
    "hyper_tree.sort_values(by='f1', ascending=False).head(1)"
   ]
  },
  {
   "cell_type": "markdown",
   "metadata": {},
   "source": [
    "#14. По сравнению с моделью, у который гиперпараметры были по-умолчанию, удалось увеличить precision, однако recall остался приблизительно такимже около 50%. Т.е. модель стала более разборчива в определении класса (0 или 1), но определяет правильно только половину 1 (положительного класса). Обучим дерево с нашим лучшим гиперпараметром, построим roc-кривую и AUC."
   ]
  },
  {
   "cell_type": "code",
   "execution_count": 39,
   "metadata": {},
   "outputs": [
    {
     "data": {
      "text/plain": [
       "DecisionTreeClassifier(class_weight=None, criterion='gini', max_depth=None,\n",
       "                       max_features=None, max_leaf_nodes=None,\n",
       "                       min_impurity_decrease=0.0, min_impurity_split=None,\n",
       "                       min_samples_leaf=66, min_samples_split=2,\n",
       "                       min_weight_fraction_leaf=0.0, presort=False,\n",
       "                       random_state=100, splitter='best')"
      ]
     },
     "execution_count": 39,
     "metadata": {},
     "output_type": "execute_result"
    }
   ],
   "source": [
    "model_decision_tree = DecisionTreeClassifier(random_state=100, min_samples_leaf=66)\n",
    "model_decision_tree.fit(train_features, train_target)"
   ]
  },
  {
   "cell_type": "code",
   "execution_count": 40,
   "metadata": {},
   "outputs": [],
   "source": [
    "#функция для построения roc-кривой и AUC метрики\n",
    "def ROC_curve_AUC(model, features, target):\n",
    "    \n",
    "    model.predict(features)\n",
    "    score_one = model.predict_proba(features)[:, 1]\n",
    "    auc_roc = round(roc_auc_score(target, score_one), 4)\n",
    "    \n",
    "    fpr, tpr, thresholds = roc_curve(target, score_one)\n",
    "\n",
    "    plt.figure(figsize=(6,6))\n",
    "    plt.plot(fpr, tpr)\n",
    "\n",
    "    # ROC-кривая случайной модели\n",
    "    plt.plot([0, 1], [0, 1], linestyle='--')\n",
    "\n",
    "    plt.xlim([0.0, 1.0])\n",
    "    plt.ylim([0.0, 1.0])\n",
    "\n",
    "    plt.xlabel('False Positive Rate')\n",
    "    plt.ylabel('True Positive Rate')\n",
    "\n",
    "    plt.title('ROC-кривая, AUC = '+str(auc_roc))\n",
    "    plt.show()"
   ]
  },
  {
   "cell_type": "code",
   "execution_count": 41,
   "metadata": {},
   "outputs": [
    {
     "data": {
      "image/png": "[encoded data removed]",
      "text/plain": [
       "<Figure size 432x432 with 1 Axes>"
      ]
     },
     "metadata": {
      "needs_background": "light"
     },
     "output_type": "display_data"
    }
   ],
   "source": [
    "ROC_curve_AUC(model_decision_tree, valid_features, valid_target)"
   ]
  },
  {
   "cell_type": "markdown",
   "metadata": {},
   "source": [
    "#### Вывод 2.3.1.  \n",
    "\n",
    "Довести f1-метрику до 0.59 не удалось, максимум был получено 0.58 на валидационной выборке. Попробуем другие алгоритмы."
   ]
  },
  {
   "cell_type": "markdown",
   "metadata": {},
   "source": [
    "#### 2.3.2 Случайный лес"
   ]
  },
  {
   "cell_type": "code",
   "execution_count": 42,
   "metadata": {
    "scrolled": true
   },
   "outputs": [],
   "source": [
    "#возвращает датафрейм с гиперпараметрами критерий, глубиной дерева, кол-во деревьев  и основными метриками\n",
    "\n",
    "def RandomForest_hyperP(train_features, train_target, valid_features, valid_target, #обучающая и валидационные выборки\n",
    "                        max_depth_tree = 25,                                        #максимальная глубина дерева    \n",
    "                        max_n_estimators = 201,                                     #максимальное число деревьев\n",
    "                        delta_n_estimators = 15,                                    #дельта для перебора числа деревьев\n",
    "                        criterions = ['gini', 'entropy'],                           #используемый критерий\n",
    "                        class_w = None                                              #сбалансировать классы (default=None)\n",
    "                       ):\n",
    "    try:\n",
    "        \n",
    "        columns = ['criterion', 'max_depth', 'n_estimators', 'f1', 'precision', 'recall', 'accuracy']\n",
    "        hyper_rf = pd.DataFrame(columns=columns)\n",
    "\n",
    "        k = 0\n",
    "        for name_crit in criterions:\n",
    "            for depth in range(10, max_depth_tree, 1):\n",
    "                for i in range(50, max_n_estimators, delta_n_estimators):\n",
    "                    model_rf = RandomForestClassifier(random_state=100, class_weight = class_w,\n",
    "                                                      criterion=name_crit, \n",
    "                                                      max_depth=depth, \n",
    "                                                      n_estimators = i,\n",
    "                                                      n_jobs = -1\n",
    "                                                     )\n",
    "                    model_rf.fit(train_features, train_target)\n",
    "                    hyper_rf.loc[k, 'criterion'] = name_crit\n",
    "                    hyper_rf.loc[k, 'max_depth'] = depth\n",
    "                    hyper_rf.loc[k, 'n_estimators'] = i\n",
    "            \n",
    "                    hyper_rf.loc[k, 'f1'] = f1_score(valid_target, model_rf.predict(valid_features))\n",
    "    \n",
    "                    hyper_rf.loc[k, 'precision'] = precision_score(valid_target, model_rf.predict(valid_features))\n",
    "    \n",
    "                    hyper_rf.loc[k, 'recall'] = recall_score(valid_target, model_rf.predict(valid_features))\n",
    "    \n",
    "                    hyper_rf.loc[k, 'accuracy'] = accuracy_score(valid_target, model_rf.predict(valid_features))\n",
    "            \n",
    "                    k+=1\n",
    "        return hyper_rf\n",
    "    except:\n",
    "        print('ERROR in RandomForest_hyperP!!!!!')"
   ]
  },
  {
   "cell_type": "code",
   "execution_count": 43,
   "metadata": {},
   "outputs": [
    {
     "name": "stdout",
     "output_type": "stream",
     "text": [
      "CPU times: user 8min 1s, sys: 1.45 s, total: 8min 3s\n",
      "Wall time: 8min 4s\n"
     ]
    }
   ],
   "source": [
    "%%time \n",
    "#8min 18s\n",
    "#запустим функцию со стандартными пределами гиперпараметров для определения наилучших гиперпараметров\n",
    "hyper_rf = RandomForest_hyperP(train_features, train_target, valid_features, valid_target)"
   ]
  },
  {
   "cell_type": "code",
   "execution_count": 44,
   "metadata": {
    "scrolled": false
   },
   "outputs": [
    {
     "data": {
      "text/html": [
       "<div>\n",
       "<style scoped>\n",
       "    .dataframe tbody tr th:only-of-type {\n",
       "        vertical-align: middle;\n",
       "    }\n",
       "\n",
       "    .dataframe tbody tr th {\n",
       "        vertical-align: top;\n",
       "    }\n",
       "\n",
       "    .dataframe thead th {\n",
       "        text-align: right;\n",
       "    }\n",
       "</style>\n",
       "<table border=\"1\" class=\"dataframe\">\n",
       "  <thead>\n",
       "    <tr style=\"text-align: right;\">\n",
       "      <th></th>\n",
       "      <th>criterion</th>\n",
       "      <th>max_depth</th>\n",
       "      <th>n_estimators</th>\n",
       "      <th>f1</th>\n",
       "      <th>precision</th>\n",
       "      <th>recall</th>\n",
       "      <th>accuracy</th>\n",
       "    </tr>\n",
       "  </thead>\n",
       "  <tbody>\n",
       "    <tr>\n",
       "      <td>257</td>\n",
       "      <td>entropy</td>\n",
       "      <td>18</td>\n",
       "      <td>110</td>\n",
       "      <td>0.612954</td>\n",
       "      <td>0.808333</td>\n",
       "      <td>0.493639</td>\n",
       "      <td>0.8775</td>\n",
       "    </tr>\n",
       "    <tr>\n",
       "      <td>230</td>\n",
       "      <td>entropy</td>\n",
       "      <td>15</td>\n",
       "      <td>200</td>\n",
       "      <td>0.611465</td>\n",
       "      <td>0.817021</td>\n",
       "      <td>0.48855</td>\n",
       "      <td>0.878</td>\n",
       "    </tr>\n",
       "    <tr>\n",
       "      <td>255</td>\n",
       "      <td>entropy</td>\n",
       "      <td>18</td>\n",
       "      <td>80</td>\n",
       "      <td>0.608558</td>\n",
       "      <td>0.806723</td>\n",
       "      <td>0.48855</td>\n",
       "      <td>0.8765</td>\n",
       "    </tr>\n",
       "    <tr>\n",
       "      <td>256</td>\n",
       "      <td>entropy</td>\n",
       "      <td>18</td>\n",
       "      <td>95</td>\n",
       "      <td>0.608558</td>\n",
       "      <td>0.806723</td>\n",
       "      <td>0.48855</td>\n",
       "      <td>0.8765</td>\n",
       "    </tr>\n",
       "    <tr>\n",
       "      <td>300</td>\n",
       "      <td>entropy</td>\n",
       "      <td>22</td>\n",
       "      <td>95</td>\n",
       "      <td>0.607595</td>\n",
       "      <td>0.803347</td>\n",
       "      <td>0.48855</td>\n",
       "      <td>0.876</td>\n",
       "    </tr>\n",
       "    <tr>\n",
       "      <td>229</td>\n",
       "      <td>entropy</td>\n",
       "      <td>15</td>\n",
       "      <td>185</td>\n",
       "      <td>0.607313</td>\n",
       "      <td>0.809322</td>\n",
       "      <td>0.486005</td>\n",
       "      <td>0.8765</td>\n",
       "    </tr>\n",
       "    <tr>\n",
       "      <td>228</td>\n",
       "      <td>entropy</td>\n",
       "      <td>15</td>\n",
       "      <td>170</td>\n",
       "      <td>0.606349</td>\n",
       "      <td>0.805907</td>\n",
       "      <td>0.486005</td>\n",
       "      <td>0.876</td>\n",
       "    </tr>\n",
       "    <tr>\n",
       "      <td>297</td>\n",
       "      <td>entropy</td>\n",
       "      <td>22</td>\n",
       "      <td>50</td>\n",
       "      <td>0.606349</td>\n",
       "      <td>0.805907</td>\n",
       "      <td>0.486005</td>\n",
       "      <td>0.876</td>\n",
       "    </tr>\n",
       "    <tr>\n",
       "      <td>254</td>\n",
       "      <td>entropy</td>\n",
       "      <td>18</td>\n",
       "      <td>65</td>\n",
       "      <td>0.605388</td>\n",
       "      <td>0.802521</td>\n",
       "      <td>0.486005</td>\n",
       "      <td>0.8755</td>\n",
       "    </tr>\n",
       "    <tr>\n",
       "      <td>258</td>\n",
       "      <td>entropy</td>\n",
       "      <td>18</td>\n",
       "      <td>125</td>\n",
       "      <td>0.605388</td>\n",
       "      <td>0.802521</td>\n",
       "      <td>0.486005</td>\n",
       "      <td>0.8755</td>\n",
       "    </tr>\n",
       "  </tbody>\n",
       "</table>\n",
       "</div>"
      ],
      "text/plain": [
       "    criterion max_depth n_estimators        f1 precision    recall accuracy\n",
       "257   entropy        18          110  0.612954  0.808333  0.493639   0.8775\n",
       "230   entropy        15          200  0.611465  0.817021   0.48855    0.878\n",
       "255   entropy        18           80  0.608558  0.806723   0.48855   0.8765\n",
       "256   entropy        18           95  0.608558  0.806723   0.48855   0.8765\n",
       "300   entropy        22           95  0.607595  0.803347   0.48855    0.876\n",
       "229   entropy        15          185  0.607313  0.809322  0.486005   0.8765\n",
       "228   entropy        15          170  0.606349  0.805907  0.486005    0.876\n",
       "297   entropy        22           50  0.606349  0.805907  0.486005    0.876\n",
       "254   entropy        18           65  0.605388  0.802521  0.486005   0.8755\n",
       "258   entropy        18          125  0.605388  0.802521  0.486005   0.8755"
      ]
     },
     "execution_count": 44,
     "metadata": {},
     "output_type": "execute_result"
    }
   ],
   "source": [
    "#10 лучших комбинаций рассмотреных гиперпараметров\n",
    "hyper_rf.sort_values(by='f1', ascending=False).head(10)"
   ]
  },
  {
   "cell_type": "markdown",
   "metadata": {},
   "source": [
    "#15. Рассмотрим теперь лучший набор гиперпараметров. Обучим случайный лес с нними, построим roc-кривую и AUC меру."
   ]
  },
  {
   "cell_type": "code",
   "execution_count": 45,
   "metadata": {},
   "outputs": [
    {
     "data": {
      "text/html": [
       "<div>\n",
       "<style scoped>\n",
       "    .dataframe tbody tr th:only-of-type {\n",
       "        vertical-align: middle;\n",
       "    }\n",
       "\n",
       "    .dataframe tbody tr th {\n",
       "        vertical-align: top;\n",
       "    }\n",
       "\n",
       "    .dataframe thead th {\n",
       "        text-align: right;\n",
       "    }\n",
       "</style>\n",
       "<table border=\"1\" class=\"dataframe\">\n",
       "  <thead>\n",
       "    <tr style=\"text-align: right;\">\n",
       "      <th></th>\n",
       "      <th>criterion</th>\n",
       "      <th>max_depth</th>\n",
       "      <th>n_estimators</th>\n",
       "      <th>f1</th>\n",
       "      <th>precision</th>\n",
       "      <th>recall</th>\n",
       "      <th>accuracy</th>\n",
       "    </tr>\n",
       "  </thead>\n",
       "  <tbody>\n",
       "    <tr>\n",
       "      <td>257</td>\n",
       "      <td>entropy</td>\n",
       "      <td>18</td>\n",
       "      <td>110</td>\n",
       "      <td>0.612954</td>\n",
       "      <td>0.808333</td>\n",
       "      <td>0.493639</td>\n",
       "      <td>0.8775</td>\n",
       "    </tr>\n",
       "  </tbody>\n",
       "</table>\n",
       "</div>"
      ],
      "text/plain": [
       "    criterion max_depth n_estimators        f1 precision    recall accuracy\n",
       "257   entropy        18          110  0.612954  0.808333  0.493639   0.8775"
      ]
     },
     "execution_count": 45,
     "metadata": {},
     "output_type": "execute_result"
    }
   ],
   "source": [
    "hyper_rf.sort_values(by='f1', ascending=False).head(1)"
   ]
  },
  {
   "cell_type": "code",
   "execution_count": 46,
   "metadata": {},
   "outputs": [
    {
     "data": {
      "text/plain": [
       "RandomForestClassifier(bootstrap=True, class_weight=None, criterion='entropy',\n",
       "                       max_depth=18, max_features='auto', max_leaf_nodes=None,\n",
       "                       min_impurity_decrease=0.0, min_impurity_split=None,\n",
       "                       min_samples_leaf=1, min_samples_split=2,\n",
       "                       min_weight_fraction_leaf=0.0, n_estimators=110,\n",
       "                       n_jobs=-1, oob_score=False, random_state=100, verbose=0,\n",
       "                       warm_start=False)"
      ]
     },
     "execution_count": 46,
     "metadata": {},
     "output_type": "execute_result"
    }
   ],
   "source": [
    "model_rf = RandomForestClassifier(random_state=100, criterion='entropy', max_depth=18, n_estimators = 110, n_jobs = -1)\n",
    "model_rf.fit(train_features, train_target)"
   ]
  },
  {
   "cell_type": "code",
   "execution_count": 47,
   "metadata": {},
   "outputs": [
    {
     "data": {
      "image/png": "[encoded data removed]",
      "text/plain": [
       "<Figure size 432x432 with 1 Axes>"
      ]
     },
     "metadata": {
      "needs_background": "light"
     },
     "output_type": "display_data"
    }
   ],
   "source": [
    "ROC_curve_AUC(model_rf, valid_features, valid_target)"
   ]
  },
  {
   "cell_type": "markdown",
   "metadata": {},
   "source": [
    "#### Вывод 2.3.2.  \n",
    "\n",
    "Нам удалось улучшить f1-метрику выше 0.59, максимум был получено 0.61 на валидационной выборке. При этом точность равна 0.808, а полнота 0.494. Так же по AUC данный алгоритм предпочтительней решающего дерева."
   ]
  },
  {
   "cell_type": "markdown",
   "metadata": {},
   "source": [
    "### 2.3.3 Логистическая регрессия"
   ]
  },
  {
   "cell_type": "code",
   "execution_count": 48,
   "metadata": {},
   "outputs": [],
   "source": [
    "#возвращает датафрейм с гиперпараметром C и основными метриками\n",
    "\n",
    "def LogisticRegression_hyperP(train_features, train_target, valid_features, valid_target, #обучающая и валидационные выборки\n",
    "                              num_for_C = 25,       #кол-во разбиений обратного коэфф. регуляризации на отрезке от [0.01; 1]\n",
    "                              class_w = None        #сбалансировать классы (default=None)\n",
    "                             ):\n",
    "    try:\n",
    "        columns = ['c', 'f1', 'precision', 'recall', 'accuracy']\n",
    "        hyper_logreg = pd.DataFrame(columns=columns)\n",
    "\n",
    "        c_koeff = np.linspace(0.01, 1.0, num_for_C)\n",
    "\n",
    "        k = 0\n",
    "        for c in c_koeff:\n",
    "            model_logreg = LogisticRegression(random_state=100, class_weight=class_w, C=c)\n",
    "            model_logreg.fit(train_features, train_target)\n",
    "    \n",
    "            hyper_logreg.loc[k, 'c'] = c\n",
    "    \n",
    "            hyper_logreg.loc[k, 'f1'] = f1_score(valid_target, model_logreg.predict(valid_features))\n",
    "    \n",
    "            hyper_logreg.loc[k, 'precision'] = precision_score(valid_target, model_logreg.predict(valid_features))\n",
    "    \n",
    "            hyper_logreg.loc[k, 'recall'] = recall_score(valid_target, model_logreg.predict(valid_features))\n",
    "    \n",
    "            hyper_logreg.loc[k, 'accuracy'] = accuracy_score(valid_target, model_logreg.predict(valid_features))\n",
    "    \n",
    "            k+=1\n",
    "    \n",
    "        return hyper_logreg\n",
    "    except:\n",
    "        print('ERROR in LogisticRegression_hyperP!!!')"
   ]
  },
  {
   "cell_type": "code",
   "execution_count": 49,
   "metadata": {},
   "outputs": [
    {
     "name": "stdout",
     "output_type": "stream",
     "text": [
      "CPU times: user 6.33 s, sys: 4.49 s, total: 10.8 s\n",
      "Wall time: 10.8 s\n"
     ]
    }
   ],
   "source": [
    "%%time\n",
    "warnings.filterwarnings(\"ignore\")\n",
    "hyper_logreg = LogisticRegression_hyperP(train_features, train_target, valid_features, valid_target, num_for_C=30)"
   ]
  },
  {
   "cell_type": "code",
   "execution_count": 50,
   "metadata": {
    "scrolled": false
   },
   "outputs": [
    {
     "data": {
      "image/png": "[encoded data removed]",
      "text/plain": [
       "<Figure size 1080x432 with 1 Axes>"
      ]
     },
     "metadata": {
      "needs_background": "light"
     },
     "output_type": "display_data"
    }
   ],
   "source": [
    "ax = hyper_logreg.plot(\n",
    "    x='c',\n",
    "    y='f1', \n",
    "    marker='o', linewidth=2, markersize=10,\n",
    "    title = 'Зависимость метрики \"f1\" от гиперпараметра \"C\"\\n',\n",
    "    grid = True, label='f1 score', figsize=(15, 6))\n",
    "ax.set_xlabel('C')\n",
    "ax.set_ylabel('f1 score')\n",
    "plt.show()"
   ]
  },
  {
   "cell_type": "code",
   "execution_count": 51,
   "metadata": {},
   "outputs": [
    {
     "data": {
      "text/html": [
       "<div>\n",
       "<style scoped>\n",
       "    .dataframe tbody tr th:only-of-type {\n",
       "        vertical-align: middle;\n",
       "    }\n",
       "\n",
       "    .dataframe tbody tr th {\n",
       "        vertical-align: top;\n",
       "    }\n",
       "\n",
       "    .dataframe thead th {\n",
       "        text-align: right;\n",
       "    }\n",
       "</style>\n",
       "<table border=\"1\" class=\"dataframe\">\n",
       "  <thead>\n",
       "    <tr style=\"text-align: right;\">\n",
       "      <th></th>\n",
       "      <th>c</th>\n",
       "      <th>f1</th>\n",
       "      <th>precision</th>\n",
       "      <th>recall</th>\n",
       "      <th>accuracy</th>\n",
       "    </tr>\n",
       "  </thead>\n",
       "  <tbody>\n",
       "    <tr>\n",
       "      <td>27</td>\n",
       "      <td>0.931724</td>\n",
       "      <td>0.506536</td>\n",
       "      <td>0.707763</td>\n",
       "      <td>0.394402</td>\n",
       "      <td>0.849</td>\n",
       "    </tr>\n",
       "  </tbody>\n",
       "</table>\n",
       "</div>"
      ],
      "text/plain": [
       "           c        f1 precision    recall accuracy\n",
       "27  0.931724  0.506536  0.707763  0.394402    0.849"
      ]
     },
     "execution_count": 51,
     "metadata": {},
     "output_type": "execute_result"
    }
   ],
   "source": [
    "hyper_logreg.sort_values(by='f1', ascending=False).head(1)"
   ]
  },
  {
   "cell_type": "code",
   "execution_count": 52,
   "metadata": {},
   "outputs": [
    {
     "name": "stdout",
     "output_type": "stream",
     "text": [
      "f1:  0.5065\tprecision:  0.7078\trecall:  0.3944\t\tаccuracy:  0.849\n"
     ]
    }
   ],
   "source": [
    "#Обучим модель с лучшим гиперпараметром\n",
    "model_logreg = LogisticRegression(random_state=100, C=0.931724)\n",
    "model_logreg.fit(train_features, train_target)\n",
    "metrics(model_logreg, valid_features, valid_target)"
   ]
  },
  {
   "cell_type": "code",
   "execution_count": 53,
   "metadata": {},
   "outputs": [
    {
     "data": {
      "image/png": "[encoded data removed]",
      "text/plain": [
       "<Figure size 432x432 with 1 Axes>"
      ]
     },
     "metadata": {
      "needs_background": "light"
     },
     "output_type": "display_data"
    }
   ],
   "source": [
    "ROC_curve_AUC(model_logreg, valid_features, valid_target)"
   ]
  },
  {
   "cell_type": "markdown",
   "metadata": {},
   "source": [
    "#### Вывод 2.3.3.  \n",
    "\n",
    "Логистическая регрессия показала наихудший результат по f1-мере среди рассмотреных алгоритмов, хотя AUC у нее чуть лучше чем у решающего дерева."
   ]
  },
  {
   "cell_type": "markdown",
   "metadata": {},
   "source": [
    "## Вывод\n",
    "\n",
    "Входе исследования на обучающей и валидационной выборках лучшей моделью по всем рассматриваемым метрикам оказался случайный лес со следующими гиперпараметрами:\n",
    "**criterion**=*'entropy'*, **max_depth**=*18*, **n_estimators** = *110*"
   ]
  },
  {
   "cell_type": "markdown",
   "metadata": {},
   "source": [
    "# 3. Борьба с дисбалансом"
   ]
  },
  {
   "cell_type": "markdown",
   "metadata": {},
   "source": [
    "### 3.1 class_weight='balanced'  \n",
    "\n",
    "Обучим снова наши модели, но с гиперпараметром *class_weight*=***'balanced'***"
   ]
  },
  {
   "cell_type": "markdown",
   "metadata": {},
   "source": [
    "#### 3.1.1 Решающее дерево"
   ]
  },
  {
   "cell_type": "code",
   "execution_count": 54,
   "metadata": {},
   "outputs": [
    {
     "name": "stdout",
     "output_type": "stream",
     "text": [
      "CPU times: user 3.12 s, sys: 8.02 ms, total: 3.13 s\n",
      "Wall time: 3.13 s\n"
     ]
    }
   ],
   "source": [
    "%%time\n",
    "\n",
    "hyper_tree_disbal_1 = DecisionTree_hyperP(train_features, train_target, valid_features, valid_target, \n",
    "                                          samples_leaf = 452, \n",
    "                                          delta_samples_leaf = 5,\n",
    "                                          class_w='balanced'\n",
    "                                         )"
   ]
  },
  {
   "cell_type": "code",
   "execution_count": 55,
   "metadata": {
    "scrolled": true
   },
   "outputs": [
    {
     "name": "stdout",
     "output_type": "stream",
     "text": [
      "Без учета дисбаланса\n"
     ]
    },
    {
     "data": {
      "text/html": [
       "<div>\n",
       "<style scoped>\n",
       "    .dataframe tbody tr th:only-of-type {\n",
       "        vertical-align: middle;\n",
       "    }\n",
       "\n",
       "    .dataframe tbody tr th {\n",
       "        vertical-align: top;\n",
       "    }\n",
       "\n",
       "    .dataframe thead th {\n",
       "        text-align: right;\n",
       "    }\n",
       "</style>\n",
       "<table border=\"1\" class=\"dataframe\">\n",
       "  <thead>\n",
       "    <tr style=\"text-align: right;\">\n",
       "      <th></th>\n",
       "      <th>max_depth</th>\n",
       "      <th>f1</th>\n",
       "      <th>precision</th>\n",
       "      <th>recall</th>\n",
       "      <th>accuracy</th>\n",
       "    </tr>\n",
       "  </thead>\n",
       "  <tbody>\n",
       "    <tr>\n",
       "      <td>66</td>\n",
       "      <td>12</td>\n",
       "      <td>0.581121</td>\n",
       "      <td>0.691228</td>\n",
       "      <td>0.501272</td>\n",
       "      <td>0.858</td>\n",
       "    </tr>\n",
       "  </tbody>\n",
       "</table>\n",
       "</div>"
      ],
      "text/plain": [
       "   max_depth        f1 precision    recall accuracy\n",
       "66        12  0.581121  0.691228  0.501272    0.858"
      ]
     },
     "metadata": {},
     "output_type": "display_data"
    },
    {
     "name": "stdout",
     "output_type": "stream",
     "text": [
      "C учетом дисбаланса (class_weight=\"balanced\")\n"
     ]
    },
    {
     "data": {
      "text/html": [
       "<div>\n",
       "<style scoped>\n",
       "    .dataframe tbody tr th:only-of-type {\n",
       "        vertical-align: middle;\n",
       "    }\n",
       "\n",
       "    .dataframe tbody tr th {\n",
       "        vertical-align: top;\n",
       "    }\n",
       "\n",
       "    .dataframe thead th {\n",
       "        text-align: right;\n",
       "    }\n",
       "</style>\n",
       "<table border=\"1\" class=\"dataframe\">\n",
       "  <thead>\n",
       "    <tr style=\"text-align: right;\">\n",
       "      <th></th>\n",
       "      <th>max_depth</th>\n",
       "      <th>f1</th>\n",
       "      <th>precision</th>\n",
       "      <th>recall</th>\n",
       "      <th>accuracy</th>\n",
       "    </tr>\n",
       "  </thead>\n",
       "  <tbody>\n",
       "    <tr>\n",
       "      <td>56</td>\n",
       "      <td>11</td>\n",
       "      <td>0.576714</td>\n",
       "      <td>0.503802</td>\n",
       "      <td>0.6743</td>\n",
       "      <td>0.8055</td>\n",
       "    </tr>\n",
       "  </tbody>\n",
       "</table>\n",
       "</div>"
      ],
      "text/plain": [
       "   max_depth        f1 precision  recall accuracy\n",
       "56        11  0.576714  0.503802  0.6743   0.8055"
      ]
     },
     "metadata": {},
     "output_type": "display_data"
    }
   ],
   "source": [
    "print('Без учета дисбаланса')\n",
    "display(hyper_tree.sort_values(by='f1', ascending=False).head(1))\n",
    "\n",
    "print('C учетом дисбаланса (class_weight=\"balanced\")')\n",
    "display(hyper_tree_disbal_1.sort_values(by='f1', ascending=False).head(1))"
   ]
  },
  {
   "cell_type": "markdown",
   "metadata": {},
   "source": [
    "#### Вывод 3.1.1.  \n",
    "\n",
    "Учет гиперпараметра class_weight='balanced' в совокупности ухудшил f1 меру, однако улучшил recall. "
   ]
  },
  {
   "cell_type": "markdown",
   "metadata": {},
   "source": [
    "#### 3.1.2 Случайный лес"
   ]
  },
  {
   "cell_type": "code",
   "execution_count": 56,
   "metadata": {
    "scrolled": true
   },
   "outputs": [
    {
     "name": "stdout",
     "output_type": "stream",
     "text": [
      "CPU times: user 8min 3s, sys: 1.73 s, total: 8min 4s\n",
      "Wall time: 8min 5s\n"
     ]
    }
   ],
   "source": [
    "%%time\n",
    "#8min 44s\n",
    "hyper_rf_disbal_1 = RandomForest_hyperP(train_features, train_target, valid_features, valid_target,\n",
    "                                       class_w='balanced')"
   ]
  },
  {
   "cell_type": "code",
   "execution_count": 57,
   "metadata": {},
   "outputs": [
    {
     "name": "stdout",
     "output_type": "stream",
     "text": [
      "Без учета дисбаланса\n"
     ]
    },
    {
     "data": {
      "text/html": [
       "<div>\n",
       "<style scoped>\n",
       "    .dataframe tbody tr th:only-of-type {\n",
       "        vertical-align: middle;\n",
       "    }\n",
       "\n",
       "    .dataframe tbody tr th {\n",
       "        vertical-align: top;\n",
       "    }\n",
       "\n",
       "    .dataframe thead th {\n",
       "        text-align: right;\n",
       "    }\n",
       "</style>\n",
       "<table border=\"1\" class=\"dataframe\">\n",
       "  <thead>\n",
       "    <tr style=\"text-align: right;\">\n",
       "      <th></th>\n",
       "      <th>criterion</th>\n",
       "      <th>max_depth</th>\n",
       "      <th>n_estimators</th>\n",
       "      <th>f1</th>\n",
       "      <th>precision</th>\n",
       "      <th>recall</th>\n",
       "      <th>accuracy</th>\n",
       "    </tr>\n",
       "  </thead>\n",
       "  <tbody>\n",
       "    <tr>\n",
       "      <td>257</td>\n",
       "      <td>entropy</td>\n",
       "      <td>18</td>\n",
       "      <td>110</td>\n",
       "      <td>0.612954</td>\n",
       "      <td>0.808333</td>\n",
       "      <td>0.493639</td>\n",
       "      <td>0.8775</td>\n",
       "    </tr>\n",
       "  </tbody>\n",
       "</table>\n",
       "</div>"
      ],
      "text/plain": [
       "    criterion max_depth n_estimators        f1 precision    recall accuracy\n",
       "257   entropy        18          110  0.612954  0.808333  0.493639   0.8775"
      ]
     },
     "metadata": {},
     "output_type": "display_data"
    },
    {
     "name": "stdout",
     "output_type": "stream",
     "text": [
      "C учетом дисбаланса (class_weight=\"balanced\")\n"
     ]
    },
    {
     "data": {
      "text/html": [
       "<div>\n",
       "<style scoped>\n",
       "    .dataframe tbody tr th:only-of-type {\n",
       "        vertical-align: middle;\n",
       "    }\n",
       "\n",
       "    .dataframe tbody tr th {\n",
       "        vertical-align: top;\n",
       "    }\n",
       "\n",
       "    .dataframe thead th {\n",
       "        text-align: right;\n",
       "    }\n",
       "</style>\n",
       "<table border=\"1\" class=\"dataframe\">\n",
       "  <thead>\n",
       "    <tr style=\"text-align: right;\">\n",
       "      <th></th>\n",
       "      <th>criterion</th>\n",
       "      <th>max_depth</th>\n",
       "      <th>n_estimators</th>\n",
       "      <th>f1</th>\n",
       "      <th>precision</th>\n",
       "      <th>recall</th>\n",
       "      <th>accuracy</th>\n",
       "    </tr>\n",
       "  </thead>\n",
       "  <tbody>\n",
       "    <tr>\n",
       "      <td>36</td>\n",
       "      <td>gini</td>\n",
       "      <td>13</td>\n",
       "      <td>95</td>\n",
       "      <td>0.638814</td>\n",
       "      <td>0.679083</td>\n",
       "      <td>0.603053</td>\n",
       "      <td>0.866</td>\n",
       "    </tr>\n",
       "  </tbody>\n",
       "</table>\n",
       "</div>"
      ],
      "text/plain": [
       "   criterion max_depth n_estimators        f1 precision    recall accuracy\n",
       "36      gini        13           95  0.638814  0.679083  0.603053    0.866"
      ]
     },
     "metadata": {},
     "output_type": "display_data"
    }
   ],
   "source": [
    "print('Без учета дисбаланса')\n",
    "display(hyper_rf.sort_values(by='f1', ascending=False).head(1))\n",
    "\n",
    "print('C учетом дисбаланса (class_weight=\"balanced\")')\n",
    "display(hyper_rf_disbal_1.sort_values(by='f1', ascending=False).head(1))"
   ]
  },
  {
   "cell_type": "markdown",
   "metadata": {},
   "source": [
    "#### Вывод 3.1.2.  \n",
    "\n",
    "Учет гиперпараметра class_weight='balanced' в совокупности улучшил f1 меру, однако precision уменьшился , а recall увеличился."
   ]
  },
  {
   "cell_type": "markdown",
   "metadata": {},
   "source": [
    "#### 3.1.3 логистическая регрессия"
   ]
  },
  {
   "cell_type": "code",
   "execution_count": 58,
   "metadata": {},
   "outputs": [
    {
     "name": "stdout",
     "output_type": "stream",
     "text": [
      "CPU times: user 6.41 s, sys: 4.51 s, total: 10.9 s\n",
      "Wall time: 10.9 s\n"
     ]
    }
   ],
   "source": [
    "%%time\n",
    "\n",
    "hyper_logreg_disbal_1 = LogisticRegression_hyperP(train_features, train_target, valid_features, valid_target, \n",
    "                                                  num_for_C=30,\n",
    "                                                  class_w='balanced'\n",
    "                                                 )"
   ]
  },
  {
   "cell_type": "code",
   "execution_count": 59,
   "metadata": {},
   "outputs": [
    {
     "name": "stdout",
     "output_type": "stream",
     "text": [
      "Без учета дисбаланса\n"
     ]
    },
    {
     "data": {
      "text/html": [
       "<div>\n",
       "<style scoped>\n",
       "    .dataframe tbody tr th:only-of-type {\n",
       "        vertical-align: middle;\n",
       "    }\n",
       "\n",
       "    .dataframe tbody tr th {\n",
       "        vertical-align: top;\n",
       "    }\n",
       "\n",
       "    .dataframe thead th {\n",
       "        text-align: right;\n",
       "    }\n",
       "</style>\n",
       "<table border=\"1\" class=\"dataframe\">\n",
       "  <thead>\n",
       "    <tr style=\"text-align: right;\">\n",
       "      <th></th>\n",
       "      <th>c</th>\n",
       "      <th>f1</th>\n",
       "      <th>precision</th>\n",
       "      <th>recall</th>\n",
       "      <th>accuracy</th>\n",
       "    </tr>\n",
       "  </thead>\n",
       "  <tbody>\n",
       "    <tr>\n",
       "      <td>27</td>\n",
       "      <td>0.931724</td>\n",
       "      <td>0.506536</td>\n",
       "      <td>0.707763</td>\n",
       "      <td>0.394402</td>\n",
       "      <td>0.849</td>\n",
       "    </tr>\n",
       "  </tbody>\n",
       "</table>\n",
       "</div>"
      ],
      "text/plain": [
       "           c        f1 precision    recall accuracy\n",
       "27  0.931724  0.506536  0.707763  0.394402    0.849"
      ]
     },
     "metadata": {},
     "output_type": "display_data"
    },
    {
     "name": "stdout",
     "output_type": "stream",
     "text": [
      "C учетом дисбаланса\n"
     ]
    },
    {
     "data": {
      "text/html": [
       "<div>\n",
       "<style scoped>\n",
       "    .dataframe tbody tr th:only-of-type {\n",
       "        vertical-align: middle;\n",
       "    }\n",
       "\n",
       "    .dataframe tbody tr th {\n",
       "        vertical-align: top;\n",
       "    }\n",
       "\n",
       "    .dataframe thead th {\n",
       "        text-align: right;\n",
       "    }\n",
       "</style>\n",
       "<table border=\"1\" class=\"dataframe\">\n",
       "  <thead>\n",
       "    <tr style=\"text-align: right;\">\n",
       "      <th></th>\n",
       "      <th>c</th>\n",
       "      <th>f1</th>\n",
       "      <th>precision</th>\n",
       "      <th>recall</th>\n",
       "      <th>accuracy</th>\n",
       "    </tr>\n",
       "  </thead>\n",
       "  <tbody>\n",
       "    <tr>\n",
       "      <td>29</td>\n",
       "      <td>1</td>\n",
       "      <td>0.578846</td>\n",
       "      <td>0.465224</td>\n",
       "      <td>0.765903</td>\n",
       "      <td>0.781</td>\n",
       "    </tr>\n",
       "  </tbody>\n",
       "</table>\n",
       "</div>"
      ],
      "text/plain": [
       "    c        f1 precision    recall accuracy\n",
       "29  1  0.578846  0.465224  0.765903    0.781"
      ]
     },
     "metadata": {},
     "output_type": "display_data"
    }
   ],
   "source": [
    "print('Без учета дисбаланса')\n",
    "display(hyper_logreg.sort_values(by='f1', ascending=False).head(1))\n",
    "\n",
    "print('C учетом дисбаланса')\n",
    "display(hyper_logreg_disbal_1.sort_values(by='f1', ascending=False).head(1))"
   ]
  },
  {
   "cell_type": "markdown",
   "metadata": {},
   "source": [
    "#### Вывод 3.1.3.  \n",
    "\n",
    "Учет гиперпараметра class_weight='balanced' в логистической регрессии улудшил f1 меру, через увеличеный recall. Однако f1 меньше требуемой."
   ]
  },
  {
   "cell_type": "markdown",
   "metadata": {},
   "source": [
    "### 3.2 upsampling"
   ]
  },
  {
   "cell_type": "code",
   "execution_count": 60,
   "metadata": {},
   "outputs": [],
   "source": [
    "def upsample(features, target, repeat):\n",
    "    try:\n",
    "        features_0 = features[target == 0]\n",
    "        features_1 = features[target == 1]\n",
    "        target_0 = target[target == 0]\n",
    "        target_1 = target[target == 1]\n",
    "\n",
    "        features_up = pd.concat([features_0] + [features_1] * repeat)\n",
    "        target_up = pd.concat([target_0] + [target_1] * repeat)\n",
    "    \n",
    "        features_up, target_up = shuffle(features_up, target_up, random_state=100)\n",
    "    \n",
    "        return features_up, target_up\n",
    "    \n",
    "    except:\n",
    "        print('ERROR in upsample!!!')"
   ]
  },
  {
   "cell_type": "code",
   "execution_count": 61,
   "metadata": {},
   "outputs": [
    {
     "name": "stdout",
     "output_type": "stream",
     "text": [
      "6000\n"
     ]
    },
    {
     "data": {
      "text/plain": [
       "0    4784\n",
       "1    1216\n",
       "Name: exited, dtype: int64"
      ]
     },
     "execution_count": 61,
     "metadata": {},
     "output_type": "execute_result"
    }
   ],
   "source": [
    "#test\n",
    "print(len(train_features))\n",
    "features_up, target_up = upsample(train_features, train_target, 1)\n",
    "\n",
    "target_up.value_counts()"
   ]
  },
  {
   "cell_type": "markdown",
   "metadata": {},
   "source": [
    "#15. Будем варьировать ***repeat*** в функции upsample от 2 до 4. *repeat=4* - это когда обоих классов примерно одинаково. Создадим список"
   ]
  },
  {
   "cell_type": "code",
   "execution_count": 62,
   "metadata": {},
   "outputs": [],
   "source": [
    "repeats = [2, 3, 4]"
   ]
  },
  {
   "cell_type": "markdown",
   "metadata": {},
   "source": [
    "#### 3.2.1 Решающее дерево"
   ]
  },
  {
   "cell_type": "code",
   "execution_count": 63,
   "metadata": {},
   "outputs": [
    {
     "name": "stdout",
     "output_type": "stream",
     "text": [
      "Без учета дисбаланса\n"
     ]
    },
    {
     "data": {
      "text/html": [
       "<div>\n",
       "<style scoped>\n",
       "    .dataframe tbody tr th:only-of-type {\n",
       "        vertical-align: middle;\n",
       "    }\n",
       "\n",
       "    .dataframe tbody tr th {\n",
       "        vertical-align: top;\n",
       "    }\n",
       "\n",
       "    .dataframe thead th {\n",
       "        text-align: right;\n",
       "    }\n",
       "</style>\n",
       "<table border=\"1\" class=\"dataframe\">\n",
       "  <thead>\n",
       "    <tr style=\"text-align: right;\">\n",
       "      <th></th>\n",
       "      <th>max_depth</th>\n",
       "      <th>f1</th>\n",
       "      <th>precision</th>\n",
       "      <th>recall</th>\n",
       "      <th>accuracy</th>\n",
       "    </tr>\n",
       "  </thead>\n",
       "  <tbody>\n",
       "    <tr>\n",
       "      <td>66</td>\n",
       "      <td>12</td>\n",
       "      <td>0.581121</td>\n",
       "      <td>0.691228</td>\n",
       "      <td>0.501272</td>\n",
       "      <td>0.858</td>\n",
       "    </tr>\n",
       "  </tbody>\n",
       "</table>\n",
       "</div>"
      ],
      "text/plain": [
       "   max_depth        f1 precision    recall accuracy\n",
       "66        12  0.581121  0.691228  0.501272    0.858"
      ]
     },
     "metadata": {},
     "output_type": "display_data"
    },
    {
     "name": "stdout",
     "output_type": "stream",
     "text": [
      "C учетом дисбаланса (upsample with repeat=2)\n"
     ]
    },
    {
     "data": {
      "text/html": [
       "<div>\n",
       "<style scoped>\n",
       "    .dataframe tbody tr th:only-of-type {\n",
       "        vertical-align: middle;\n",
       "    }\n",
       "\n",
       "    .dataframe tbody tr th {\n",
       "        vertical-align: top;\n",
       "    }\n",
       "\n",
       "    .dataframe thead th {\n",
       "        text-align: right;\n",
       "    }\n",
       "</style>\n",
       "<table border=\"1\" class=\"dataframe\">\n",
       "  <thead>\n",
       "    <tr style=\"text-align: right;\">\n",
       "      <th></th>\n",
       "      <th>max_depth</th>\n",
       "      <th>f1</th>\n",
       "      <th>precision</th>\n",
       "      <th>recall</th>\n",
       "      <th>accuracy</th>\n",
       "    </tr>\n",
       "  </thead>\n",
       "  <tbody>\n",
       "    <tr>\n",
       "      <td>81</td>\n",
       "      <td>11</td>\n",
       "      <td>0.608142</td>\n",
       "      <td>0.608142</td>\n",
       "      <td>0.608142</td>\n",
       "      <td>0.846</td>\n",
       "    </tr>\n",
       "  </tbody>\n",
       "</table>\n",
       "</div>"
      ],
      "text/plain": [
       "   max_depth        f1 precision    recall accuracy\n",
       "81        11  0.608142  0.608142  0.608142    0.846"
      ]
     },
     "metadata": {},
     "output_type": "display_data"
    },
    {
     "name": "stdout",
     "output_type": "stream",
     "text": [
      "C учетом дисбаланса (upsample with repeat=3)\n"
     ]
    },
    {
     "data": {
      "text/html": [
       "<div>\n",
       "<style scoped>\n",
       "    .dataframe tbody tr th:only-of-type {\n",
       "        vertical-align: middle;\n",
       "    }\n",
       "\n",
       "    .dataframe tbody tr th {\n",
       "        vertical-align: top;\n",
       "    }\n",
       "\n",
       "    .dataframe thead th {\n",
       "        text-align: right;\n",
       "    }\n",
       "</style>\n",
       "<table border=\"1\" class=\"dataframe\">\n",
       "  <thead>\n",
       "    <tr style=\"text-align: right;\">\n",
       "      <th></th>\n",
       "      <th>max_depth</th>\n",
       "      <th>f1</th>\n",
       "      <th>precision</th>\n",
       "      <th>recall</th>\n",
       "      <th>accuracy</th>\n",
       "    </tr>\n",
       "  </thead>\n",
       "  <tbody>\n",
       "    <tr>\n",
       "      <td>56</td>\n",
       "      <td>11</td>\n",
       "      <td>0.590414</td>\n",
       "      <td>0.51619</td>\n",
       "      <td>0.689567</td>\n",
       "      <td>0.812</td>\n",
       "    </tr>\n",
       "  </tbody>\n",
       "</table>\n",
       "</div>"
      ],
      "text/plain": [
       "   max_depth        f1 precision    recall accuracy\n",
       "56        11  0.590414   0.51619  0.689567    0.812"
      ]
     },
     "metadata": {},
     "output_type": "display_data"
    },
    {
     "name": "stdout",
     "output_type": "stream",
     "text": [
      "C учетом дисбаланса (upsample with repeat=4)\n"
     ]
    },
    {
     "data": {
      "text/html": [
       "<div>\n",
       "<style scoped>\n",
       "    .dataframe tbody tr th:only-of-type {\n",
       "        vertical-align: middle;\n",
       "    }\n",
       "\n",
       "    .dataframe tbody tr th {\n",
       "        vertical-align: top;\n",
       "    }\n",
       "\n",
       "    .dataframe thead th {\n",
       "        text-align: right;\n",
       "    }\n",
       "</style>\n",
       "<table border=\"1\" class=\"dataframe\">\n",
       "  <thead>\n",
       "    <tr style=\"text-align: right;\">\n",
       "      <th></th>\n",
       "      <th>max_depth</th>\n",
       "      <th>f1</th>\n",
       "      <th>precision</th>\n",
       "      <th>recall</th>\n",
       "      <th>accuracy</th>\n",
       "    </tr>\n",
       "  </thead>\n",
       "  <tbody>\n",
       "    <tr>\n",
       "      <td>66</td>\n",
       "      <td>11</td>\n",
       "      <td>0.576577</td>\n",
       "      <td>0.475248</td>\n",
       "      <td>0.732824</td>\n",
       "      <td>0.7885</td>\n",
       "    </tr>\n",
       "  </tbody>\n",
       "</table>\n",
       "</div>"
      ],
      "text/plain": [
       "   max_depth        f1 precision    recall accuracy\n",
       "66        11  0.576577  0.475248  0.732824   0.7885"
      ]
     },
     "metadata": {},
     "output_type": "display_data"
    },
    {
     "name": "stdout",
     "output_type": "stream",
     "text": [
      "CPU times: user 11.3 s, sys: 19.8 ms, total: 11.3 s\n",
      "Wall time: 11.3 s\n"
     ]
    }
   ],
   "source": [
    "%%time\n",
    "\n",
    "print('Без учета дисбаланса')\n",
    "display(hyper_tree.sort_values(by='f1', ascending=False).head(1))\n",
    "\n",
    "for rep in repeats:\n",
    "    \n",
    "    features_up, target_up = upsample(train_features, train_target, rep)\n",
    "    \n",
    "    hyper_tree_disbal_2 = DecisionTree_hyperP(features_up, target_up, valid_features, valid_target, \n",
    "                                          samples_leaf = 452, \n",
    "                                          delta_samples_leaf = 5\n",
    "                                         )\n",
    "    \n",
    "    print('C учетом дисбаланса (upsample with repeat={:})'.format(rep))\n",
    "    display(hyper_tree_disbal_2.sort_values(by='f1', ascending=False).head(1))\n"
   ]
  },
  {
   "cell_type": "markdown",
   "metadata": {},
   "source": [
    "#### Вывод 3.2.1.  \n",
    "\n",
    "С увеличением числа элементов положительного класса в upsampling, растет полнота(recall), при этом точность (precision) падает. В ходе расчета оптимальным оказалось использование удвоеного положительного класса (repeat = 2), т.к. он обеспечивает наибольшую f1-меру ~60.81% (precision=60.81%, recall=60.81%)."
   ]
  },
  {
   "cell_type": "markdown",
   "metadata": {},
   "source": [
    "#### 3.2.2 Случайный лес"
   ]
  },
  {
   "cell_type": "code",
   "execution_count": 64,
   "metadata": {
    "scrolled": false
   },
   "outputs": [
    {
     "name": "stdout",
     "output_type": "stream",
     "text": [
      "Без учета дисбаланса\n"
     ]
    },
    {
     "data": {
      "text/html": [
       "<div>\n",
       "<style scoped>\n",
       "    .dataframe tbody tr th:only-of-type {\n",
       "        vertical-align: middle;\n",
       "    }\n",
       "\n",
       "    .dataframe tbody tr th {\n",
       "        vertical-align: top;\n",
       "    }\n",
       "\n",
       "    .dataframe thead th {\n",
       "        text-align: right;\n",
       "    }\n",
       "</style>\n",
       "<table border=\"1\" class=\"dataframe\">\n",
       "  <thead>\n",
       "    <tr style=\"text-align: right;\">\n",
       "      <th></th>\n",
       "      <th>criterion</th>\n",
       "      <th>max_depth</th>\n",
       "      <th>n_estimators</th>\n",
       "      <th>f1</th>\n",
       "      <th>precision</th>\n",
       "      <th>recall</th>\n",
       "      <th>accuracy</th>\n",
       "    </tr>\n",
       "  </thead>\n",
       "  <tbody>\n",
       "    <tr>\n",
       "      <td>257</td>\n",
       "      <td>entropy</td>\n",
       "      <td>18</td>\n",
       "      <td>110</td>\n",
       "      <td>0.612954</td>\n",
       "      <td>0.808333</td>\n",
       "      <td>0.493639</td>\n",
       "      <td>0.8775</td>\n",
       "    </tr>\n",
       "  </tbody>\n",
       "</table>\n",
       "</div>"
      ],
      "text/plain": [
       "    criterion max_depth n_estimators        f1 precision    recall accuracy\n",
       "257   entropy        18          110  0.612954  0.808333  0.493639   0.8775"
      ]
     },
     "metadata": {},
     "output_type": "display_data"
    },
    {
     "name": "stdout",
     "output_type": "stream",
     "text": [
      "C учетом дисбаланса (upsample with repeat=2)\n"
     ]
    },
    {
     "data": {
      "text/html": [
       "<div>\n",
       "<style scoped>\n",
       "    .dataframe tbody tr th:only-of-type {\n",
       "        vertical-align: middle;\n",
       "    }\n",
       "\n",
       "    .dataframe tbody tr th {\n",
       "        vertical-align: top;\n",
       "    }\n",
       "\n",
       "    .dataframe thead th {\n",
       "        text-align: right;\n",
       "    }\n",
       "</style>\n",
       "<table border=\"1\" class=\"dataframe\">\n",
       "  <thead>\n",
       "    <tr style=\"text-align: right;\">\n",
       "      <th></th>\n",
       "      <th>criterion</th>\n",
       "      <th>max_depth</th>\n",
       "      <th>n_estimators</th>\n",
       "      <th>f1</th>\n",
       "      <th>precision</th>\n",
       "      <th>recall</th>\n",
       "      <th>accuracy</th>\n",
       "    </tr>\n",
       "  </thead>\n",
       "  <tbody>\n",
       "    <tr>\n",
       "      <td>304</td>\n",
       "      <td>entropy</td>\n",
       "      <td>22</td>\n",
       "      <td>155</td>\n",
       "      <td>0.632332</td>\n",
       "      <td>0.722222</td>\n",
       "      <td>0.562341</td>\n",
       "      <td>0.8715</td>\n",
       "    </tr>\n",
       "  </tbody>\n",
       "</table>\n",
       "</div>"
      ],
      "text/plain": [
       "    criterion max_depth n_estimators        f1 precision    recall accuracy\n",
       "304   entropy        22          155  0.632332  0.722222  0.562341   0.8715"
      ]
     },
     "metadata": {},
     "output_type": "display_data"
    },
    {
     "name": "stdout",
     "output_type": "stream",
     "text": [
      "C учетом дисбаланса (upsample with repeat=3)\n"
     ]
    },
    {
     "data": {
      "text/html": [
       "<div>\n",
       "<style scoped>\n",
       "    .dataframe tbody tr th:only-of-type {\n",
       "        vertical-align: middle;\n",
       "    }\n",
       "\n",
       "    .dataframe tbody tr th {\n",
       "        vertical-align: top;\n",
       "    }\n",
       "\n",
       "    .dataframe thead th {\n",
       "        text-align: right;\n",
       "    }\n",
       "</style>\n",
       "<table border=\"1\" class=\"dataframe\">\n",
       "  <thead>\n",
       "    <tr style=\"text-align: right;\">\n",
       "      <th></th>\n",
       "      <th>criterion</th>\n",
       "      <th>max_depth</th>\n",
       "      <th>n_estimators</th>\n",
       "      <th>f1</th>\n",
       "      <th>precision</th>\n",
       "      <th>recall</th>\n",
       "      <th>accuracy</th>\n",
       "    </tr>\n",
       "  </thead>\n",
       "  <tbody>\n",
       "    <tr>\n",
       "      <td>69</td>\n",
       "      <td>gini</td>\n",
       "      <td>16</td>\n",
       "      <td>95</td>\n",
       "      <td>0.643243</td>\n",
       "      <td>0.685879</td>\n",
       "      <td>0.605598</td>\n",
       "      <td>0.868</td>\n",
       "    </tr>\n",
       "  </tbody>\n",
       "</table>\n",
       "</div>"
      ],
      "text/plain": [
       "   criterion max_depth n_estimators        f1 precision    recall accuracy\n",
       "69      gini        16           95  0.643243  0.685879  0.605598    0.868"
      ]
     },
     "metadata": {},
     "output_type": "display_data"
    },
    {
     "name": "stdout",
     "output_type": "stream",
     "text": [
      "C учетом дисбаланса (upsample with repeat=4)\n"
     ]
    },
    {
     "data": {
      "text/html": [
       "<div>\n",
       "<style scoped>\n",
       "    .dataframe tbody tr th:only-of-type {\n",
       "        vertical-align: middle;\n",
       "    }\n",
       "\n",
       "    .dataframe tbody tr th {\n",
       "        vertical-align: top;\n",
       "    }\n",
       "\n",
       "    .dataframe thead th {\n",
       "        text-align: right;\n",
       "    }\n",
       "</style>\n",
       "<table border=\"1\" class=\"dataframe\">\n",
       "  <thead>\n",
       "    <tr style=\"text-align: right;\">\n",
       "      <th></th>\n",
       "      <th>criterion</th>\n",
       "      <th>max_depth</th>\n",
       "      <th>n_estimators</th>\n",
       "      <th>f1</th>\n",
       "      <th>precision</th>\n",
       "      <th>recall</th>\n",
       "      <th>accuracy</th>\n",
       "    </tr>\n",
       "  </thead>\n",
       "  <tbody>\n",
       "    <tr>\n",
       "      <td>100</td>\n",
       "      <td>gini</td>\n",
       "      <td>19</td>\n",
       "      <td>65</td>\n",
       "      <td>0.641407</td>\n",
       "      <td>0.684971</td>\n",
       "      <td>0.603053</td>\n",
       "      <td>0.8675</td>\n",
       "    </tr>\n",
       "  </tbody>\n",
       "</table>\n",
       "</div>"
      ],
      "text/plain": [
       "    criterion max_depth n_estimators        f1 precision    recall accuracy\n",
       "100      gini        19           65  0.641407  0.684971  0.603053   0.8675"
      ]
     },
     "metadata": {},
     "output_type": "display_data"
    },
    {
     "name": "stdout",
     "output_type": "stream",
     "text": [
      "CPU times: user 31min 19s, sys: 4.93 s, total: 31min 24s\n",
      "Wall time: 31min 32s\n"
     ]
    }
   ],
   "source": [
    "%%time\n",
    "\n",
    "#расчет около 30 минут\n",
    "print('Без учета дисбаланса')\n",
    "display(hyper_rf.sort_values(by='f1', ascending=False).head(1))\n",
    "\n",
    "for rep in repeats:\n",
    "    \n",
    "    features_up, target_up = upsample(train_features, train_target, rep)\n",
    "    \n",
    "    hyper_rf_disbal_2 = RandomForest_hyperP(features_up, target_up, valid_features, valid_target)\n",
    "    \n",
    "    print('C учетом дисбаланса (upsample with repeat={:})'.format(rep))\n",
    "    display(hyper_rf_disbal_2.sort_values(by='f1', ascending=False).head(1))\n"
   ]
  },
  {
   "cell_type": "markdown",
   "metadata": {},
   "source": [
    "#### Вывод 3.2.2.  \n",
    "\n",
    "С увеличением числа элементов положительного класса в upsampling, растет полнота(recall), при этом точность (precision) падает, хотя не так сильно как у одного решающего дерева. В ходе расчета оптимальным оказалось использование утроеного положительного класса (repeat = 3), т.к. он обеспечивает наибольшую f1-меру ~64.32% (precision=68.58%, recall=60.06%) при гиперпараметрах:\n",
    "**criterion**=*'gini'*, **max_depth**=*16*, **n_estimators** = *95*"
   ]
  },
  {
   "cell_type": "markdown",
   "metadata": {},
   "source": [
    "#### 3.2.3 Логистическая регрессия"
   ]
  },
  {
   "cell_type": "code",
   "execution_count": 65,
   "metadata": {},
   "outputs": [
    {
     "name": "stdout",
     "output_type": "stream",
     "text": [
      "Без учета дисбаланса\n"
     ]
    },
    {
     "data": {
      "text/html": [
       "<div>\n",
       "<style scoped>\n",
       "    .dataframe tbody tr th:only-of-type {\n",
       "        vertical-align: middle;\n",
       "    }\n",
       "\n",
       "    .dataframe tbody tr th {\n",
       "        vertical-align: top;\n",
       "    }\n",
       "\n",
       "    .dataframe thead th {\n",
       "        text-align: right;\n",
       "    }\n",
       "</style>\n",
       "<table border=\"1\" class=\"dataframe\">\n",
       "  <thead>\n",
       "    <tr style=\"text-align: right;\">\n",
       "      <th></th>\n",
       "      <th>c</th>\n",
       "      <th>f1</th>\n",
       "      <th>precision</th>\n",
       "      <th>recall</th>\n",
       "      <th>accuracy</th>\n",
       "    </tr>\n",
       "  </thead>\n",
       "  <tbody>\n",
       "    <tr>\n",
       "      <td>27</td>\n",
       "      <td>0.931724</td>\n",
       "      <td>0.506536</td>\n",
       "      <td>0.707763</td>\n",
       "      <td>0.394402</td>\n",
       "      <td>0.849</td>\n",
       "    </tr>\n",
       "  </tbody>\n",
       "</table>\n",
       "</div>"
      ],
      "text/plain": [
       "           c        f1 precision    recall accuracy\n",
       "27  0.931724  0.506536  0.707763  0.394402    0.849"
      ]
     },
     "metadata": {},
     "output_type": "display_data"
    },
    {
     "name": "stdout",
     "output_type": "stream",
     "text": [
      "C учетом дисбаланса (upsample with repeat=2)\n"
     ]
    },
    {
     "data": {
      "text/html": [
       "<div>\n",
       "<style scoped>\n",
       "    .dataframe tbody tr th:only-of-type {\n",
       "        vertical-align: middle;\n",
       "    }\n",
       "\n",
       "    .dataframe tbody tr th {\n",
       "        vertical-align: top;\n",
       "    }\n",
       "\n",
       "    .dataframe thead th {\n",
       "        text-align: right;\n",
       "    }\n",
       "</style>\n",
       "<table border=\"1\" class=\"dataframe\">\n",
       "  <thead>\n",
       "    <tr style=\"text-align: right;\">\n",
       "      <th></th>\n",
       "      <th>c</th>\n",
       "      <th>f1</th>\n",
       "      <th>precision</th>\n",
       "      <th>recall</th>\n",
       "      <th>accuracy</th>\n",
       "    </tr>\n",
       "  </thead>\n",
       "  <tbody>\n",
       "    <tr>\n",
       "      <td>4</td>\n",
       "      <td>0.146552</td>\n",
       "      <td>0.589128</td>\n",
       "      <td>0.585427</td>\n",
       "      <td>0.592875</td>\n",
       "      <td>0.8375</td>\n",
       "    </tr>\n",
       "  </tbody>\n",
       "</table>\n",
       "</div>"
      ],
      "text/plain": [
       "          c        f1 precision    recall accuracy\n",
       "4  0.146552  0.589128  0.585427  0.592875   0.8375"
      ]
     },
     "metadata": {},
     "output_type": "display_data"
    },
    {
     "name": "stdout",
     "output_type": "stream",
     "text": [
      "C учетом дисбаланса (upsample with repeat=3)\n"
     ]
    },
    {
     "data": {
      "text/html": [
       "<div>\n",
       "<style scoped>\n",
       "    .dataframe tbody tr th:only-of-type {\n",
       "        vertical-align: middle;\n",
       "    }\n",
       "\n",
       "    .dataframe tbody tr th {\n",
       "        vertical-align: top;\n",
       "    }\n",
       "\n",
       "    .dataframe thead th {\n",
       "        text-align: right;\n",
       "    }\n",
       "</style>\n",
       "<table border=\"1\" class=\"dataframe\">\n",
       "  <thead>\n",
       "    <tr style=\"text-align: right;\">\n",
       "      <th></th>\n",
       "      <th>c</th>\n",
       "      <th>f1</th>\n",
       "      <th>precision</th>\n",
       "      <th>recall</th>\n",
       "      <th>accuracy</th>\n",
       "    </tr>\n",
       "  </thead>\n",
       "  <tbody>\n",
       "    <tr>\n",
       "      <td>1</td>\n",
       "      <td>0.0441379</td>\n",
       "      <td>0.58811</td>\n",
       "      <td>0.504554</td>\n",
       "      <td>0.704835</td>\n",
       "      <td>0.806</td>\n",
       "    </tr>\n",
       "  </tbody>\n",
       "</table>\n",
       "</div>"
      ],
      "text/plain": [
       "           c       f1 precision    recall accuracy\n",
       "1  0.0441379  0.58811  0.504554  0.704835    0.806"
      ]
     },
     "metadata": {},
     "output_type": "display_data"
    },
    {
     "name": "stdout",
     "output_type": "stream",
     "text": [
      "C учетом дисбаланса (upsample with repeat=4)\n"
     ]
    },
    {
     "data": {
      "text/html": [
       "<div>\n",
       "<style scoped>\n",
       "    .dataframe tbody tr th:only-of-type {\n",
       "        vertical-align: middle;\n",
       "    }\n",
       "\n",
       "    .dataframe tbody tr th {\n",
       "        vertical-align: top;\n",
       "    }\n",
       "\n",
       "    .dataframe thead th {\n",
       "        text-align: right;\n",
       "    }\n",
       "</style>\n",
       "<table border=\"1\" class=\"dataframe\">\n",
       "  <thead>\n",
       "    <tr style=\"text-align: right;\">\n",
       "      <th></th>\n",
       "      <th>c</th>\n",
       "      <th>f1</th>\n",
       "      <th>precision</th>\n",
       "      <th>recall</th>\n",
       "      <th>accuracy</th>\n",
       "    </tr>\n",
       "  </thead>\n",
       "  <tbody>\n",
       "    <tr>\n",
       "      <td>1</td>\n",
       "      <td>0.0441379</td>\n",
       "      <td>0.576015</td>\n",
       "      <td>0.457958</td>\n",
       "      <td>0.776081</td>\n",
       "      <td>0.7755</td>\n",
       "    </tr>\n",
       "  </tbody>\n",
       "</table>\n",
       "</div>"
      ],
      "text/plain": [
       "           c        f1 precision    recall accuracy\n",
       "1  0.0441379  0.576015  0.457958  0.776081   0.7755"
      ]
     },
     "metadata": {},
     "output_type": "display_data"
    },
    {
     "name": "stdout",
     "output_type": "stream",
     "text": [
      "CPU times: user 18.2 s, sys: 12.7 s, total: 30.9 s\n",
      "Wall time: 30.9 s\n"
     ]
    }
   ],
   "source": [
    "%%time\n",
    "\n",
    "print('Без учета дисбаланса')\n",
    "display(hyper_logreg.sort_values(by='f1', ascending=False).head(1))\n",
    "\n",
    "for rep in repeats:\n",
    "    \n",
    "    features_up, target_up = upsample(train_features, train_target, rep)\n",
    "    \n",
    "    hyper_logreg_disbal_2 = LogisticRegression_hyperP(features_up, target_up, valid_features, valid_target, \n",
    "                                                  num_for_C=30\n",
    "                                                 )\n",
    "    \n",
    "    print('C учетом дисбаланса (upsample with repeat={:})'.format(rep))\n",
    "    display(hyper_logreg_disbal_2.sort_values(by='f1', ascending=False).head(1))\n"
   ]
  },
  {
   "cell_type": "markdown",
   "metadata": {},
   "source": [
    "#### Вывод 3.2.3.  \n",
    "\n",
    "С увеличением числа элементов положительного класса, растет полнота(recall), при этом точность (precision) падает значительно. f1-мера более 0.59 достичь не удалось"
   ]
  },
  {
   "cell_type": "markdown",
   "metadata": {},
   "source": [
    "### 3.3 downsampling"
   ]
  },
  {
   "cell_type": "code",
   "execution_count": 66,
   "metadata": {},
   "outputs": [],
   "source": [
    "def downsample(features, target, fraction):\n",
    "    features_0 = features[target == 0]\n",
    "    features_1 = features[target == 1]\n",
    "    target_0 = target[target == 0]\n",
    "    target_1 = target[target == 1]\n",
    "\n",
    "    features_down = pd.concat([features_0.sample(frac=fraction, random_state=100)] + [features_1])\n",
    "    \n",
    "    target_down = pd.concat([target_0.sample(frac=fraction, random_state=100)] + [target_1])\n",
    "    \n",
    "    features_down, target_down = shuffle(features_down, target_down, random_state=100)\n",
    "    \n",
    "    return features_down, target_down"
   ]
  },
  {
   "cell_type": "code",
   "execution_count": 67,
   "metadata": {},
   "outputs": [
    {
     "name": "stdout",
     "output_type": "stream",
     "text": [
      "6000\n"
     ]
    },
    {
     "data": {
      "text/plain": [
       "0    4784\n",
       "1    1216\n",
       "Name: exited, dtype: int64"
      ]
     },
     "execution_count": 67,
     "metadata": {},
     "output_type": "execute_result"
    }
   ],
   "source": [
    "#test \n",
    "print(len(train_features))\n",
    "features_down, target_down = downsample(train_features, train_target, 1.0)\n",
    "\n",
    "target_down.value_counts()"
   ]
  },
  {
   "cell_type": "code",
   "execution_count": 68,
   "metadata": {},
   "outputs": [],
   "source": [
    "fractions = [0.25, 0.5, 0.75]"
   ]
  },
  {
   "cell_type": "markdown",
   "metadata": {},
   "source": [
    "#### 3.3.1 Решающее дерево"
   ]
  },
  {
   "cell_type": "code",
   "execution_count": 69,
   "metadata": {},
   "outputs": [
    {
     "name": "stdout",
     "output_type": "stream",
     "text": [
      "Без учета дисбаланса\n"
     ]
    },
    {
     "data": {
      "text/html": [
       "<div>\n",
       "<style scoped>\n",
       "    .dataframe tbody tr th:only-of-type {\n",
       "        vertical-align: middle;\n",
       "    }\n",
       "\n",
       "    .dataframe tbody tr th {\n",
       "        vertical-align: top;\n",
       "    }\n",
       "\n",
       "    .dataframe thead th {\n",
       "        text-align: right;\n",
       "    }\n",
       "</style>\n",
       "<table border=\"1\" class=\"dataframe\">\n",
       "  <thead>\n",
       "    <tr style=\"text-align: right;\">\n",
       "      <th></th>\n",
       "      <th>max_depth</th>\n",
       "      <th>f1</th>\n",
       "      <th>precision</th>\n",
       "      <th>recall</th>\n",
       "      <th>accuracy</th>\n",
       "    </tr>\n",
       "  </thead>\n",
       "  <tbody>\n",
       "    <tr>\n",
       "      <td>66</td>\n",
       "      <td>12</td>\n",
       "      <td>0.581121</td>\n",
       "      <td>0.691228</td>\n",
       "      <td>0.501272</td>\n",
       "      <td>0.858</td>\n",
       "    </tr>\n",
       "  </tbody>\n",
       "</table>\n",
       "</div>"
      ],
      "text/plain": [
       "   max_depth        f1 precision    recall accuracy\n",
       "66        12  0.581121  0.691228  0.501272    0.858"
      ]
     },
     "metadata": {},
     "output_type": "display_data"
    },
    {
     "name": "stdout",
     "output_type": "stream",
     "text": [
      "C учетом дисбаланса (downsample with fraction=0.25)\n"
     ]
    },
    {
     "data": {
      "text/html": [
       "<div>\n",
       "<style scoped>\n",
       "    .dataframe tbody tr th:only-of-type {\n",
       "        vertical-align: middle;\n",
       "    }\n",
       "\n",
       "    .dataframe tbody tr th {\n",
       "        vertical-align: top;\n",
       "    }\n",
       "\n",
       "    .dataframe thead th {\n",
       "        text-align: right;\n",
       "    }\n",
       "</style>\n",
       "<table border=\"1\" class=\"dataframe\">\n",
       "  <thead>\n",
       "    <tr style=\"text-align: right;\">\n",
       "      <th></th>\n",
       "      <th>max_depth</th>\n",
       "      <th>f1</th>\n",
       "      <th>precision</th>\n",
       "      <th>recall</th>\n",
       "      <th>accuracy</th>\n",
       "    </tr>\n",
       "  </thead>\n",
       "  <tbody>\n",
       "    <tr>\n",
       "      <td>51</td>\n",
       "      <td>8</td>\n",
       "      <td>0.573304</td>\n",
       "      <td>0.502879</td>\n",
       "      <td>0.666667</td>\n",
       "      <td>0.805</td>\n",
       "    </tr>\n",
       "  </tbody>\n",
       "</table>\n",
       "</div>"
      ],
      "text/plain": [
       "   max_depth        f1 precision    recall accuracy\n",
       "51         8  0.573304  0.502879  0.666667    0.805"
      ]
     },
     "metadata": {},
     "output_type": "display_data"
    },
    {
     "name": "stdout",
     "output_type": "stream",
     "text": [
      "C учетом дисбаланса (downsample with fraction=0.5)\n"
     ]
    },
    {
     "data": {
      "text/html": [
       "<div>\n",
       "<style scoped>\n",
       "    .dataframe tbody tr th:only-of-type {\n",
       "        vertical-align: middle;\n",
       "    }\n",
       "\n",
       "    .dataframe tbody tr th {\n",
       "        vertical-align: top;\n",
       "    }\n",
       "\n",
       "    .dataframe thead th {\n",
       "        text-align: right;\n",
       "    }\n",
       "</style>\n",
       "<table border=\"1\" class=\"dataframe\">\n",
       "  <thead>\n",
       "    <tr style=\"text-align: right;\">\n",
       "      <th></th>\n",
       "      <th>max_depth</th>\n",
       "      <th>f1</th>\n",
       "      <th>precision</th>\n",
       "      <th>recall</th>\n",
       "      <th>accuracy</th>\n",
       "    </tr>\n",
       "  </thead>\n",
       "  <tbody>\n",
       "    <tr>\n",
       "      <td>46</td>\n",
       "      <td>10</td>\n",
       "      <td>0.598269</td>\n",
       "      <td>0.581731</td>\n",
       "      <td>0.615776</td>\n",
       "      <td>0.8375</td>\n",
       "    </tr>\n",
       "  </tbody>\n",
       "</table>\n",
       "</div>"
      ],
      "text/plain": [
       "   max_depth        f1 precision    recall accuracy\n",
       "46        10  0.598269  0.581731  0.615776   0.8375"
      ]
     },
     "metadata": {},
     "output_type": "display_data"
    },
    {
     "name": "stdout",
     "output_type": "stream",
     "text": [
      "C учетом дисбаланса (downsample with fraction=0.75)\n"
     ]
    },
    {
     "data": {
      "text/html": [
       "<div>\n",
       "<style scoped>\n",
       "    .dataframe tbody tr th:only-of-type {\n",
       "        vertical-align: middle;\n",
       "    }\n",
       "\n",
       "    .dataframe tbody tr th {\n",
       "        vertical-align: top;\n",
       "    }\n",
       "\n",
       "    .dataframe thead th {\n",
       "        text-align: right;\n",
       "    }\n",
       "</style>\n",
       "<table border=\"1\" class=\"dataframe\">\n",
       "  <thead>\n",
       "    <tr style=\"text-align: right;\">\n",
       "      <th></th>\n",
       "      <th>max_depth</th>\n",
       "      <th>f1</th>\n",
       "      <th>precision</th>\n",
       "      <th>recall</th>\n",
       "      <th>accuracy</th>\n",
       "    </tr>\n",
       "  </thead>\n",
       "  <tbody>\n",
       "    <tr>\n",
       "      <td>56</td>\n",
       "      <td>10</td>\n",
       "      <td>0.600273</td>\n",
       "      <td>0.647059</td>\n",
       "      <td>0.559796</td>\n",
       "      <td>0.8535</td>\n",
       "    </tr>\n",
       "  </tbody>\n",
       "</table>\n",
       "</div>"
      ],
      "text/plain": [
       "   max_depth        f1 precision    recall accuracy\n",
       "56        10  0.600273  0.647059  0.559796   0.8535"
      ]
     },
     "metadata": {},
     "output_type": "display_data"
    },
    {
     "name": "stdout",
     "output_type": "stream",
     "text": [
      "CPU times: user 7.08 s, sys: 19.9 ms, total: 7.1 s\n",
      "Wall time: 7.11 s\n"
     ]
    }
   ],
   "source": [
    "%%time\n",
    "\n",
    "print('Без учета дисбаланса')\n",
    "display(hyper_tree.sort_values(by='f1', ascending=False).head(1))\n",
    "\n",
    "for frac in fractions:\n",
    "    \n",
    "    features_down, target_down = downsample(train_features, train_target, frac)\n",
    "    \n",
    "    hyper_tree_disbal_3 = DecisionTree_hyperP(features_down, target_down, valid_features, valid_target, \n",
    "                                          samples_leaf = 452, \n",
    "                                          delta_samples_leaf = 5\n",
    "                                         )\n",
    "    \n",
    "    print('C учетом дисбаланса (downsample with fraction={:})'.format(frac))\n",
    "    display(hyper_tree_disbal_3.sort_values(by='f1', ascending=False).head(1))\n"
   ]
  },
  {
   "cell_type": "markdown",
   "metadata": {},
   "source": [
    "#### Вывод 3.3.1.  \n",
    "\n",
    "C уменьшением объектов нулевого класса растет recall, но сильно падает precision. Для решаюшего дерева на используемых данных наиболее предпочтительным оказался downsampling с fraction=0.75: получили f1 = 60.02% (precision=64.70%, recall=55.97%)"
   ]
  },
  {
   "cell_type": "markdown",
   "metadata": {},
   "source": [
    "#### 3.3.2 Случайный лес"
   ]
  },
  {
   "cell_type": "code",
   "execution_count": 70,
   "metadata": {
    "scrolled": false
   },
   "outputs": [
    {
     "name": "stdout",
     "output_type": "stream",
     "text": [
      "Без учета дисбаланса\n"
     ]
    },
    {
     "data": {
      "text/html": [
       "<div>\n",
       "<style scoped>\n",
       "    .dataframe tbody tr th:only-of-type {\n",
       "        vertical-align: middle;\n",
       "    }\n",
       "\n",
       "    .dataframe tbody tr th {\n",
       "        vertical-align: top;\n",
       "    }\n",
       "\n",
       "    .dataframe thead th {\n",
       "        text-align: right;\n",
       "    }\n",
       "</style>\n",
       "<table border=\"1\" class=\"dataframe\">\n",
       "  <thead>\n",
       "    <tr style=\"text-align: right;\">\n",
       "      <th></th>\n",
       "      <th>criterion</th>\n",
       "      <th>max_depth</th>\n",
       "      <th>n_estimators</th>\n",
       "      <th>f1</th>\n",
       "      <th>precision</th>\n",
       "      <th>recall</th>\n",
       "      <th>accuracy</th>\n",
       "    </tr>\n",
       "  </thead>\n",
       "  <tbody>\n",
       "    <tr>\n",
       "      <td>257</td>\n",
       "      <td>entropy</td>\n",
       "      <td>18</td>\n",
       "      <td>110</td>\n",
       "      <td>0.612954</td>\n",
       "      <td>0.808333</td>\n",
       "      <td>0.493639</td>\n",
       "      <td>0.8775</td>\n",
       "    </tr>\n",
       "  </tbody>\n",
       "</table>\n",
       "</div>"
      ],
      "text/plain": [
       "    criterion max_depth n_estimators        f1 precision    recall accuracy\n",
       "257   entropy        18          110  0.612954  0.808333  0.493639   0.8775"
      ]
     },
     "metadata": {},
     "output_type": "display_data"
    },
    {
     "name": "stdout",
     "output_type": "stream",
     "text": [
      "C учетом дисбаланса (downsample with fraction=0.25)\n"
     ]
    },
    {
     "data": {
      "text/html": [
       "<div>\n",
       "<style scoped>\n",
       "    .dataframe tbody tr th:only-of-type {\n",
       "        vertical-align: middle;\n",
       "    }\n",
       "\n",
       "    .dataframe tbody tr th {\n",
       "        vertical-align: top;\n",
       "    }\n",
       "\n",
       "    .dataframe thead th {\n",
       "        text-align: right;\n",
       "    }\n",
       "</style>\n",
       "<table border=\"1\" class=\"dataframe\">\n",
       "  <thead>\n",
       "    <tr style=\"text-align: right;\">\n",
       "      <th></th>\n",
       "      <th>criterion</th>\n",
       "      <th>max_depth</th>\n",
       "      <th>n_estimators</th>\n",
       "      <th>f1</th>\n",
       "      <th>precision</th>\n",
       "      <th>recall</th>\n",
       "      <th>accuracy</th>\n",
       "    </tr>\n",
       "  </thead>\n",
       "  <tbody>\n",
       "    <tr>\n",
       "      <td>203</td>\n",
       "      <td>entropy</td>\n",
       "      <td>13</td>\n",
       "      <td>125</td>\n",
       "      <td>0.609562</td>\n",
       "      <td>0.500818</td>\n",
       "      <td>0.778626</td>\n",
       "      <td>0.804</td>\n",
       "    </tr>\n",
       "  </tbody>\n",
       "</table>\n",
       "</div>"
      ],
      "text/plain": [
       "    criterion max_depth n_estimators        f1 precision    recall accuracy\n",
       "203   entropy        13          125  0.609562  0.500818  0.778626    0.804"
      ]
     },
     "metadata": {},
     "output_type": "display_data"
    },
    {
     "name": "stdout",
     "output_type": "stream",
     "text": [
      "C учетом дисбаланса (downsample with fraction=0.5)\n"
     ]
    },
    {
     "data": {
      "text/html": [
       "<div>\n",
       "<style scoped>\n",
       "    .dataframe tbody tr th:only-of-type {\n",
       "        vertical-align: middle;\n",
       "    }\n",
       "\n",
       "    .dataframe tbody tr th {\n",
       "        vertical-align: top;\n",
       "    }\n",
       "\n",
       "    .dataframe thead th {\n",
       "        text-align: right;\n",
       "    }\n",
       "</style>\n",
       "<table border=\"1\" class=\"dataframe\">\n",
       "  <thead>\n",
       "    <tr style=\"text-align: right;\">\n",
       "      <th></th>\n",
       "      <th>criterion</th>\n",
       "      <th>max_depth</th>\n",
       "      <th>n_estimators</th>\n",
       "      <th>f1</th>\n",
       "      <th>precision</th>\n",
       "      <th>recall</th>\n",
       "      <th>accuracy</th>\n",
       "    </tr>\n",
       "  </thead>\n",
       "  <tbody>\n",
       "    <tr>\n",
       "      <td>247</td>\n",
       "      <td>entropy</td>\n",
       "      <td>17</td>\n",
       "      <td>125</td>\n",
       "      <td>0.633952</td>\n",
       "      <td>0.66205</td>\n",
       "      <td>0.608142</td>\n",
       "      <td>0.862</td>\n",
       "    </tr>\n",
       "  </tbody>\n",
       "</table>\n",
       "</div>"
      ],
      "text/plain": [
       "    criterion max_depth n_estimators        f1 precision    recall accuracy\n",
       "247   entropy        17          125  0.633952   0.66205  0.608142    0.862"
      ]
     },
     "metadata": {},
     "output_type": "display_data"
    },
    {
     "name": "stdout",
     "output_type": "stream",
     "text": [
      "C учетом дисбаланса (downsample with fraction=0.75)\n"
     ]
    },
    {
     "data": {
      "text/html": [
       "<div>\n",
       "<style scoped>\n",
       "    .dataframe tbody tr th:only-of-type {\n",
       "        vertical-align: middle;\n",
       "    }\n",
       "\n",
       "    .dataframe tbody tr th {\n",
       "        vertical-align: top;\n",
       "    }\n",
       "\n",
       "    .dataframe thead th {\n",
       "        text-align: right;\n",
       "    }\n",
       "</style>\n",
       "<table border=\"1\" class=\"dataframe\">\n",
       "  <thead>\n",
       "    <tr style=\"text-align: right;\">\n",
       "      <th></th>\n",
       "      <th>criterion</th>\n",
       "      <th>max_depth</th>\n",
       "      <th>n_estimators</th>\n",
       "      <th>f1</th>\n",
       "      <th>precision</th>\n",
       "      <th>recall</th>\n",
       "      <th>accuracy</th>\n",
       "    </tr>\n",
       "  </thead>\n",
       "  <tbody>\n",
       "    <tr>\n",
       "      <td>72</td>\n",
       "      <td>gini</td>\n",
       "      <td>16</td>\n",
       "      <td>140</td>\n",
       "      <td>0.622419</td>\n",
       "      <td>0.740351</td>\n",
       "      <td>0.536896</td>\n",
       "      <td>0.872</td>\n",
       "    </tr>\n",
       "  </tbody>\n",
       "</table>\n",
       "</div>"
      ],
      "text/plain": [
       "   criterion max_depth n_estimators        f1 precision    recall accuracy\n",
       "72      gini        16          140  0.622419  0.740351  0.536896    0.872"
      ]
     },
     "metadata": {},
     "output_type": "display_data"
    },
    {
     "name": "stdout",
     "output_type": "stream",
     "text": [
      "CPU times: user 17min 58s, sys: 3.39 s, total: 18min 1s\n",
      "Wall time: 18min 5s\n"
     ]
    }
   ],
   "source": [
    "%%time\n",
    "#17min 55s\n",
    "\n",
    "print('Без учета дисбаланса')\n",
    "display(hyper_rf.sort_values(by='f1', ascending=False).head(1))\n",
    "\n",
    "for frac in fractions:\n",
    "    \n",
    "    features_down, target_down = downsample(train_features, train_target, frac)\n",
    "    \n",
    "    hyper_rf_disbal_3 = RandomForest_hyperP(features_down, target_down, valid_features, valid_target)\n",
    "    \n",
    "    print('C учетом дисбаланса (downsample with fraction={:})'.format(frac))\n",
    "    display(hyper_rf_disbal_3.sort_values(by='f1', ascending=False).head(1))"
   ]
  },
  {
   "cell_type": "markdown",
   "metadata": {},
   "source": [
    "#### Вывод 3.3.2.  \n",
    "\n",
    "C уменьшением объектов нулевого класса растет recall, но сильно падает precision, так что меньше становится f1-мера. Для случайного леса на используемых данных наиболее предпочтительным оказался downsampling с fraction=0.5: получили f1 = 63.39% (precision=66.21%, recall=60.81%) "
   ]
  },
  {
   "cell_type": "markdown",
   "metadata": {},
   "source": [
    "#### 3.3.3 Логистическая регрессия"
   ]
  },
  {
   "cell_type": "code",
   "execution_count": 71,
   "metadata": {},
   "outputs": [
    {
     "name": "stdout",
     "output_type": "stream",
     "text": [
      "Без учета дисбаланса\n"
     ]
    },
    {
     "data": {
      "text/html": [
       "<div>\n",
       "<style scoped>\n",
       "    .dataframe tbody tr th:only-of-type {\n",
       "        vertical-align: middle;\n",
       "    }\n",
       "\n",
       "    .dataframe tbody tr th {\n",
       "        vertical-align: top;\n",
       "    }\n",
       "\n",
       "    .dataframe thead th {\n",
       "        text-align: right;\n",
       "    }\n",
       "</style>\n",
       "<table border=\"1\" class=\"dataframe\">\n",
       "  <thead>\n",
       "    <tr style=\"text-align: right;\">\n",
       "      <th></th>\n",
       "      <th>c</th>\n",
       "      <th>f1</th>\n",
       "      <th>precision</th>\n",
       "      <th>recall</th>\n",
       "      <th>accuracy</th>\n",
       "    </tr>\n",
       "  </thead>\n",
       "  <tbody>\n",
       "    <tr>\n",
       "      <td>27</td>\n",
       "      <td>0.931724</td>\n",
       "      <td>0.506536</td>\n",
       "      <td>0.707763</td>\n",
       "      <td>0.394402</td>\n",
       "      <td>0.849</td>\n",
       "    </tr>\n",
       "  </tbody>\n",
       "</table>\n",
       "</div>"
      ],
      "text/plain": [
       "           c        f1 precision    recall accuracy\n",
       "27  0.931724  0.506536  0.707763  0.394402    0.849"
      ]
     },
     "metadata": {},
     "output_type": "display_data"
    },
    {
     "name": "stdout",
     "output_type": "stream",
     "text": [
      "C учетом дисбаланса (downsample with fraction=0.25)\n"
     ]
    },
    {
     "data": {
      "text/html": [
       "<div>\n",
       "<style scoped>\n",
       "    .dataframe tbody tr th:only-of-type {\n",
       "        vertical-align: middle;\n",
       "    }\n",
       "\n",
       "    .dataframe tbody tr th {\n",
       "        vertical-align: top;\n",
       "    }\n",
       "\n",
       "    .dataframe thead th {\n",
       "        text-align: right;\n",
       "    }\n",
       "</style>\n",
       "<table border=\"1\" class=\"dataframe\">\n",
       "  <thead>\n",
       "    <tr style=\"text-align: right;\">\n",
       "      <th></th>\n",
       "      <th>c</th>\n",
       "      <th>f1</th>\n",
       "      <th>precision</th>\n",
       "      <th>recall</th>\n",
       "      <th>accuracy</th>\n",
       "    </tr>\n",
       "  </thead>\n",
       "  <tbody>\n",
       "    <tr>\n",
       "      <td>8</td>\n",
       "      <td>0.283103</td>\n",
       "      <td>0.576015</td>\n",
       "      <td>0.457958</td>\n",
       "      <td>0.776081</td>\n",
       "      <td>0.7755</td>\n",
       "    </tr>\n",
       "  </tbody>\n",
       "</table>\n",
       "</div>"
      ],
      "text/plain": [
       "          c        f1 precision    recall accuracy\n",
       "8  0.283103  0.576015  0.457958  0.776081   0.7755"
      ]
     },
     "metadata": {},
     "output_type": "display_data"
    },
    {
     "name": "stdout",
     "output_type": "stream",
     "text": [
      "C учетом дисбаланса (downsample with fraction=0.5)\n"
     ]
    },
    {
     "data": {
      "text/html": [
       "<div>\n",
       "<style scoped>\n",
       "    .dataframe tbody tr th:only-of-type {\n",
       "        vertical-align: middle;\n",
       "    }\n",
       "\n",
       "    .dataframe tbody tr th {\n",
       "        vertical-align: top;\n",
       "    }\n",
       "\n",
       "    .dataframe thead th {\n",
       "        text-align: right;\n",
       "    }\n",
       "</style>\n",
       "<table border=\"1\" class=\"dataframe\">\n",
       "  <thead>\n",
       "    <tr style=\"text-align: right;\">\n",
       "      <th></th>\n",
       "      <th>c</th>\n",
       "      <th>f1</th>\n",
       "      <th>precision</th>\n",
       "      <th>recall</th>\n",
       "      <th>accuracy</th>\n",
       "    </tr>\n",
       "  </thead>\n",
       "  <tbody>\n",
       "    <tr>\n",
       "      <td>5</td>\n",
       "      <td>0.18069</td>\n",
       "      <td>0.595691</td>\n",
       "      <td>0.593434</td>\n",
       "      <td>0.597964</td>\n",
       "      <td>0.8405</td>\n",
       "    </tr>\n",
       "  </tbody>\n",
       "</table>\n",
       "</div>"
      ],
      "text/plain": [
       "         c        f1 precision    recall accuracy\n",
       "5  0.18069  0.595691  0.593434  0.597964   0.8405"
      ]
     },
     "metadata": {},
     "output_type": "display_data"
    },
    {
     "name": "stdout",
     "output_type": "stream",
     "text": [
      "C учетом дисбаланса (downsample with fraction=0.75)\n"
     ]
    },
    {
     "data": {
      "text/html": [
       "<div>\n",
       "<style scoped>\n",
       "    .dataframe tbody tr th:only-of-type {\n",
       "        vertical-align: middle;\n",
       "    }\n",
       "\n",
       "    .dataframe tbody tr th {\n",
       "        vertical-align: top;\n",
       "    }\n",
       "\n",
       "    .dataframe thead th {\n",
       "        text-align: right;\n",
       "    }\n",
       "</style>\n",
       "<table border=\"1\" class=\"dataframe\">\n",
       "  <thead>\n",
       "    <tr style=\"text-align: right;\">\n",
       "      <th></th>\n",
       "      <th>c</th>\n",
       "      <th>f1</th>\n",
       "      <th>precision</th>\n",
       "      <th>recall</th>\n",
       "      <th>accuracy</th>\n",
       "    </tr>\n",
       "  </thead>\n",
       "  <tbody>\n",
       "    <tr>\n",
       "      <td>29</td>\n",
       "      <td>1</td>\n",
       "      <td>0.56094</td>\n",
       "      <td>0.663194</td>\n",
       "      <td>0.486005</td>\n",
       "      <td>0.8505</td>\n",
       "    </tr>\n",
       "  </tbody>\n",
       "</table>\n",
       "</div>"
      ],
      "text/plain": [
       "    c       f1 precision    recall accuracy\n",
       "29  1  0.56094  0.663194  0.486005   0.8505"
      ]
     },
     "metadata": {},
     "output_type": "display_data"
    },
    {
     "name": "stdout",
     "output_type": "stream",
     "text": [
      "CPU times: user 14.1 s, sys: 11.8 s, total: 25.9 s\n",
      "Wall time: 25.9 s\n"
     ]
    }
   ],
   "source": [
    "%%time\n",
    "\n",
    "print('Без учета дисбаланса')\n",
    "display(hyper_logreg.sort_values(by='f1', ascending=False).head(1))\n",
    "\n",
    "for frac in fractions:\n",
    "    \n",
    "    features_down, target_down = downsample(train_features, train_target, frac)\n",
    "    \n",
    "    hyper_logreg_disbal_3 = LogisticRegression_hyperP(features_down, target_down, valid_features, valid_target, \n",
    "                                                      num_for_C=30\n",
    "                                                     )\n",
    "    \n",
    "    print('C учетом дисбаланса (downsample with fraction={:})'.format(frac))\n",
    "    display(hyper_logreg_disbal_3.sort_values(by='f1', ascending=False).head(1))\n"
   ]
  },
  {
   "cell_type": "markdown",
   "metadata": {},
   "source": [
    "#### Вывод 3.3.3.  \n",
    "\n",
    "C уменьшением объектов нулевого класса растет recall, но сильно падает precision. Для логистической регресии на используемых данных наиболее предпочтительным оказался downsampling с fraction=0.5: получили f1 = 59.57% (precision=59.34%, recall=59.79%) "
   ]
  },
  {
   "cell_type": "markdown",
   "metadata": {},
   "source": [
    "## Вывод  \n",
    "\n",
    "Все рассмотренные методы борьбы с дисбалансом классов увеливают значение f1-меры за счет увеличения recall, при этом начинает падать precision. На представленной обучающей и валидационной выборках лучшим в борьбе с дисбалансом классов оказался **upsampling** с repeat=3 для случайного леся c гиперпараметрами:\n",
    "**criterion**=*'gini'*, **max_depth**=*16*, **n_estimators** = *95*"
   ]
  },
  {
   "cell_type": "markdown",
   "metadata": {},
   "source": [
    "# 4. Тестирование модели"
   ]
  },
  {
   "cell_type": "markdown",
   "metadata": {},
   "source": [
    "#16. Чтобы построить более точный прогноз заново обучим модель, с лучшими гиперпараметрами, совместно на данных из обучающей и валидационной выборках."
   ]
  },
  {
   "cell_type": "code",
   "execution_count": 72,
   "metadata": {},
   "outputs": [],
   "source": [
    "#лучшие гиперпараметры: criterion='gini', max_depth=16, n_estimators = 95\n",
    "model_final = RandomForestClassifier(random_state = 100, \n",
    "                                     criterion = 'gini', \n",
    "                                     max_depth = 16,\n",
    "                                     n_estimators = 95\n",
    "                                    )"
   ]
  },
  {
   "cell_type": "code",
   "execution_count": 73,
   "metadata": {},
   "outputs": [],
   "source": [
    "#для борьбы с дисбалансом произведем upsampling с repeat=3\n",
    "features_up, target_up = upsample(train_valid_features, train_valid_target, 3)"
   ]
  },
  {
   "cell_type": "code",
   "execution_count": 74,
   "metadata": {},
   "outputs": [
    {
     "data": {
      "text/plain": [
       "RandomForestClassifier(bootstrap=True, class_weight=None, criterion='gini',\n",
       "                       max_depth=16, max_features='auto', max_leaf_nodes=None,\n",
       "                       min_impurity_decrease=0.0, min_impurity_split=None,\n",
       "                       min_samples_leaf=1, min_samples_split=2,\n",
       "                       min_weight_fraction_leaf=0.0, n_estimators=95,\n",
       "                       n_jobs=None, oob_score=False, random_state=100,\n",
       "                       verbose=0, warm_start=False)"
      ]
     },
     "execution_count": 74,
     "metadata": {},
     "output_type": "execute_result"
    }
   ],
   "source": [
    "model_final.fit(features_up, target_up)"
   ]
  },
  {
   "cell_type": "code",
   "execution_count": 75,
   "metadata": {},
   "outputs": [
    {
     "name": "stdout",
     "output_type": "stream",
     "text": [
      "f1:  0.6022\tprecision:  0.6412\trecall:  0.5678\t\tаccuracy:  0.8395\n"
     ]
    }
   ],
   "source": [
    "#получим основные метрики\n",
    "metrics(model_final, test_features, test_target)"
   ]
  },
  {
   "cell_type": "markdown",
   "metadata": {},
   "source": [
    "#17. Для проверки адекватности модели (на сколько она лучше случайной модели) построим ROC-кривую и посчитаем AUC"
   ]
  },
  {
   "cell_type": "code",
   "execution_count": 76,
   "metadata": {
    "scrolled": false
   },
   "outputs": [
    {
     "data": {
      "image/png": "[encoded data removed]",
      "text/plain": [
       "<Figure size 432x432 with 1 Axes>"
      ]
     },
     "metadata": {
      "needs_background": "light"
     },
     "output_type": "display_data"
    }
   ],
   "source": [
    "ROC_curve_AUC(model_final, test_features, test_target)"
   ]
  },
  {
   "cell_type": "markdown",
   "metadata": {},
   "source": [
    "### Вывод  \n",
    "\n",
    "**f1-мера** на тестовой выборке >= 0.59. На тестовой выборке AUC > 0.5 - значит модель адекватна (лучше случайной). Самая лучшая модель из рассмотреных позволила достигнуть цели исследования. "
   ]
  },
  {
   "cell_type": "markdown",
   "metadata": {},
   "source": [
    "# Вывод  \n",
    "\n",
    "В ходе выполнения работы в наборе данных были обработаны пропуски и проведна подготовка признаков: категориальные признаки были преобразованы с помощью прямого и порядкового кодирования, а численные признаки были масштабированы. Первоначальный датафрейм был разбит на тренировочную, валидационную и тестовую выборки, по которым были обучены модели на основе трех алгоритмов обучения: решающее дерево, случайный лес и логистическая регрессия. Проварьировав гиперпараметры у данных алгоритмов, была найдена лучшая модель без учета дисбаланса(случайный лес). После чего был учтен дисбаланс и заново найдена лучшая модель, которая позволяет достичь на тестовой выборке F1-меры не менее 0.59(случайный лес). Данная модель также была проверена на адекватность, путем сравнения со случайной моделью, посредством построения ROC-кривой и расчета AUC меры."
   ]
  },
  {
   "cell_type": "code",
   "execution_count": null,
   "metadata": {},
   "outputs": [],
   "source": []
  }
 ],
 "metadata": {
  "kernelspec": {
   "display_name": "Python 3",
   "language": "python",
   "name": "python3"
  },
  "language_info": {
   "codemirror_mode": {
    "name": "ipython",
    "version": 3
   },
   "file_extension": ".py",
   "mimetype": "text/x-python",
   "name": "python",
   "nbconvert_exporter": "python",
   "pygments_lexer": "ipython3",
   "version": "3.6.5"
  }
 },
 "nbformat": 4,
 "nbformat_minor": 2
}
